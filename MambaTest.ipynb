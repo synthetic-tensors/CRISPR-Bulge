{
 "cells": [
  {
   "cell_type": "code",
   "execution_count": 1,
   "id": "1339696b-4cae-46fc-abf4-d56d05cb869e",
   "metadata": {},
   "outputs": [
    {
     "data": {
      "text/html": [
       "<div>\n",
       "<style scoped>\n",
       "    .dataframe tbody tr th:only-of-type {\n",
       "        vertical-align: middle;\n",
       "    }\n",
       "\n",
       "    .dataframe tbody tr th {\n",
       "        vertical-align: top;\n",
       "    }\n",
       "\n",
       "    .dataframe thead th {\n",
       "        text-align: right;\n",
       "    }\n",
       "</style>\n",
       "<table border=\"1\" class=\"dataframe\">\n",
       "  <thead>\n",
       "    <tr style=\"text-align: right;\">\n",
       "      <th></th>\n",
       "      <th>sgRNA</th>\n",
       "      <th>chrom</th>\n",
       "      <th>SiteWindow</th>\n",
       "      <th>Align.strand</th>\n",
       "      <th>Align.chromStart</th>\n",
       "      <th>Align.chromEnd</th>\n",
       "      <th>Align.off-target</th>\n",
       "      <th>Align.sgRNA</th>\n",
       "      <th>Align.#Mismatches</th>\n",
       "      <th>Align.#Bulges</th>\n",
       "      <th>reads</th>\n",
       "    </tr>\n",
       "  </thead>\n",
       "  <tbody>\n",
       "    <tr>\n",
       "      <th>0</th>\n",
       "      <td>GAACAAGGTGTTCCCACCCGNGG</td>\n",
       "      <td>chr1</td>\n",
       "      <td>ACACAACAAAGGAGAAATGTCCCATGCACAAGGTGCACCCATGCCT...</td>\n",
       "      <td>+</td>\n",
       "      <td>31230</td>\n",
       "      <td>31253</td>\n",
       "      <td>GCACAAGGTGCACCCATGCCTGG</td>\n",
       "      <td>GAACAAGGTGTTCCCACCCGNGG</td>\n",
       "      <td>6</td>\n",
       "      <td>0</td>\n",
       "      <td>0</td>\n",
       "    </tr>\n",
       "    <tr>\n",
       "      <th>1</th>\n",
       "      <td>GAACAAGGTGTTCCCACCCGNGG</td>\n",
       "      <td>chr1</td>\n",
       "      <td>TGGGCGTGTTAAGCTTGTTTTCCTGCAACTGGATGTTCCCACCTGA...</td>\n",
       "      <td>+</td>\n",
       "      <td>139830</td>\n",
       "      <td>139853</td>\n",
       "      <td>CAACTGGATGTTCCCACCTGAGC</td>\n",
       "      <td>GAACAAGGTGTTCCCACCCGNGG</td>\n",
       "      <td>6</td>\n",
       "      <td>0</td>\n",
       "      <td>0</td>\n",
       "    </tr>\n",
       "    <tr>\n",
       "      <th>2</th>\n",
       "      <td>GAACAAGGTGTTCCCACCCGNGG</td>\n",
       "      <td>chr1</td>\n",
       "      <td>AACCCAAGAAGACAGTTACGGGAACCCCCGATTGGTAACAGGTTGG...</td>\n",
       "      <td>-</td>\n",
       "      <td>142036</td>\n",
       "      <td>142059</td>\n",
       "      <td>GACCAACCTGTTACCAATCGGGG</td>\n",
       "      <td>GAACAAGGTGTTCCCACCCGNGG</td>\n",
       "      <td>6</td>\n",
       "      <td>0</td>\n",
       "      <td>0</td>\n",
       "    </tr>\n",
       "    <tr>\n",
       "      <th>3</th>\n",
       "      <td>GAACAAGGTGTTCCCACCCGNGG</td>\n",
       "      <td>chr1</td>\n",
       "      <td>ACACAACAAAGGAGAAATGTCCCATGCACAAGGTGCACCCATGCCT...</td>\n",
       "      <td>+</td>\n",
       "      <td>201750</td>\n",
       "      <td>201773</td>\n",
       "      <td>GCACAAGGTGCACCCATGCCTGG</td>\n",
       "      <td>GAACAAGGTGTTCCCACCCGNGG</td>\n",
       "      <td>6</td>\n",
       "      <td>0</td>\n",
       "      <td>0</td>\n",
       "    </tr>\n",
       "    <tr>\n",
       "      <th>4</th>\n",
       "      <td>GAACAAGGTGTTCCCACCCGNGG</td>\n",
       "      <td>chr1</td>\n",
       "      <td>TTATGTGGTCTTATTCCCATAACTGGGGCCAGATGATCCCACCCTG...</td>\n",
       "      <td>+</td>\n",
       "      <td>384430</td>\n",
       "      <td>384453</td>\n",
       "      <td>GGGCCAGATGATCCCACCCTGGG</td>\n",
       "      <td>GAACAAGGTGTTCCCACCCGNGG</td>\n",
       "      <td>6</td>\n",
       "      <td>0</td>\n",
       "      <td>0</td>\n",
       "    </tr>\n",
       "    <tr>\n",
       "      <th>...</th>\n",
       "      <td>...</td>\n",
       "      <td>...</td>\n",
       "      <td>...</td>\n",
       "      <td>...</td>\n",
       "      <td>...</td>\n",
       "      <td>...</td>\n",
       "      <td>...</td>\n",
       "      <td>...</td>\n",
       "      <td>...</td>\n",
       "      <td>...</td>\n",
       "      <td>...</td>\n",
       "    </tr>\n",
       "    <tr>\n",
       "      <th>4936273</th>\n",
       "      <td>GTTTGCGACTCTGACAGAGCNGG</td>\n",
       "      <td>chrY</td>\n",
       "      <td>TATACCGAATGGATAGGCCTATGGATCGGCTCTTTCAAAGTTGTAA...</td>\n",
       "      <td>-</td>\n",
       "      <td>25438794</td>\n",
       "      <td>25438817</td>\n",
       "      <td>GATTACAACTTTGAAAGAGCCGA</td>\n",
       "      <td>GTTTGCGACTCTGACAGAGCNGG</td>\n",
       "      <td>6</td>\n",
       "      <td>0</td>\n",
       "      <td>0</td>\n",
       "    </tr>\n",
       "    <tr>\n",
       "      <th>4936274</th>\n",
       "      <td>GTTTGCGACTCTGACAGAGCNGG</td>\n",
       "      <td>chrY</td>\n",
       "      <td>AAAAGGAGATTAGGAAATGAGGGAAGCAGCGCTGTCAGAGTTTCCA...</td>\n",
       "      <td>-</td>\n",
       "      <td>25475441</td>\n",
       "      <td>25475464</td>\n",
       "      <td>TTTGGAAACTCTGACAGCGCTGC</td>\n",
       "      <td>GTTTGCGACTCTGACAGAGCNGG</td>\n",
       "      <td>6</td>\n",
       "      <td>0</td>\n",
       "      <td>0</td>\n",
       "    </tr>\n",
       "    <tr>\n",
       "      <th>4936275</th>\n",
       "      <td>GTTTGCGACTCTGACAGAGCNGG</td>\n",
       "      <td>chrY</td>\n",
       "      <td>ACTCCTGGCTTCAAGTACTCTGCCTGTTTTGGCCTCTAAAAGTGCC...</td>\n",
       "      <td>+</td>\n",
       "      <td>25579286</td>\n",
       "      <td>25579309</td>\n",
       "      <td>GTTTTGGCCTCTAAAAGTGCCGG</td>\n",
       "      <td>GTTTGCGACTCTGACAGAGCNGG</td>\n",
       "      <td>6</td>\n",
       "      <td>0</td>\n",
       "      <td>0</td>\n",
       "    </tr>\n",
       "    <tr>\n",
       "      <th>4936276</th>\n",
       "      <td>GTTTGCGACTCTGACAGAGCNGG</td>\n",
       "      <td>chrY</td>\n",
       "      <td>TTTAAAACGTTAGACCTTCAGTGGTCCTCCTCCTTCAGCCTCCCAA...</td>\n",
       "      <td>-</td>\n",
       "      <td>25692093</td>\n",
       "      <td>25692116</td>\n",
       "      <td>GTTTGGGAGGCTGAAGGAGGAGG</td>\n",
       "      <td>GTTTGCGACTCTGACAGAGCNGG</td>\n",
       "      <td>6</td>\n",
       "      <td>0</td>\n",
       "      <td>0</td>\n",
       "    </tr>\n",
       "    <tr>\n",
       "      <th>4936277</th>\n",
       "      <td>GTTTGCGACTCTGACAGAGCNGG</td>\n",
       "      <td>chrY</td>\n",
       "      <td>ATTTGTAAAATAAATAAAAGCACCAGCTTTGGAGTCAGACAGACCA...</td>\n",
       "      <td>+</td>\n",
       "      <td>26359378</td>\n",
       "      <td>26359400</td>\n",
       "      <td>CTTTG-GAGTCAGACAGACCAGG</td>\n",
       "      <td>GTTTGCGACTCTGACAGAGCNGG</td>\n",
       "      <td>4</td>\n",
       "      <td>1</td>\n",
       "      <td>0</td>\n",
       "    </tr>\n",
       "  </tbody>\n",
       "</table>\n",
       "<p>4936278 rows × 11 columns</p>\n",
       "</div>"
      ],
      "text/plain": [
       "                           sgRNA chrom  \\\n",
       "0        GAACAAGGTGTTCCCACCCGNGG  chr1   \n",
       "1        GAACAAGGTGTTCCCACCCGNGG  chr1   \n",
       "2        GAACAAGGTGTTCCCACCCGNGG  chr1   \n",
       "3        GAACAAGGTGTTCCCACCCGNGG  chr1   \n",
       "4        GAACAAGGTGTTCCCACCCGNGG  chr1   \n",
       "...                          ...   ...   \n",
       "4936273  GTTTGCGACTCTGACAGAGCNGG  chrY   \n",
       "4936274  GTTTGCGACTCTGACAGAGCNGG  chrY   \n",
       "4936275  GTTTGCGACTCTGACAGAGCNGG  chrY   \n",
       "4936276  GTTTGCGACTCTGACAGAGCNGG  chrY   \n",
       "4936277  GTTTGCGACTCTGACAGAGCNGG  chrY   \n",
       "\n",
       "                                                SiteWindow Align.strand  \\\n",
       "0        ACACAACAAAGGAGAAATGTCCCATGCACAAGGTGCACCCATGCCT...            +   \n",
       "1        TGGGCGTGTTAAGCTTGTTTTCCTGCAACTGGATGTTCCCACCTGA...            +   \n",
       "2        AACCCAAGAAGACAGTTACGGGAACCCCCGATTGGTAACAGGTTGG...            -   \n",
       "3        ACACAACAAAGGAGAAATGTCCCATGCACAAGGTGCACCCATGCCT...            +   \n",
       "4        TTATGTGGTCTTATTCCCATAACTGGGGCCAGATGATCCCACCCTG...            +   \n",
       "...                                                    ...          ...   \n",
       "4936273  TATACCGAATGGATAGGCCTATGGATCGGCTCTTTCAAAGTTGTAA...            -   \n",
       "4936274  AAAAGGAGATTAGGAAATGAGGGAAGCAGCGCTGTCAGAGTTTCCA...            -   \n",
       "4936275  ACTCCTGGCTTCAAGTACTCTGCCTGTTTTGGCCTCTAAAAGTGCC...            +   \n",
       "4936276  TTTAAAACGTTAGACCTTCAGTGGTCCTCCTCCTTCAGCCTCCCAA...            -   \n",
       "4936277  ATTTGTAAAATAAATAAAAGCACCAGCTTTGGAGTCAGACAGACCA...            +   \n",
       "\n",
       "         Align.chromStart  Align.chromEnd         Align.off-target  \\\n",
       "0                   31230           31253  GCACAAGGTGCACCCATGCCTGG   \n",
       "1                  139830          139853  CAACTGGATGTTCCCACCTGAGC   \n",
       "2                  142036          142059  GACCAACCTGTTACCAATCGGGG   \n",
       "3                  201750          201773  GCACAAGGTGCACCCATGCCTGG   \n",
       "4                  384430          384453  GGGCCAGATGATCCCACCCTGGG   \n",
       "...                   ...             ...                      ...   \n",
       "4936273          25438794        25438817  GATTACAACTTTGAAAGAGCCGA   \n",
       "4936274          25475441        25475464  TTTGGAAACTCTGACAGCGCTGC   \n",
       "4936275          25579286        25579309  GTTTTGGCCTCTAAAAGTGCCGG   \n",
       "4936276          25692093        25692116  GTTTGGGAGGCTGAAGGAGGAGG   \n",
       "4936277          26359378        26359400  CTTTG-GAGTCAGACAGACCAGG   \n",
       "\n",
       "                     Align.sgRNA  Align.#Mismatches  Align.#Bulges  reads  \n",
       "0        GAACAAGGTGTTCCCACCCGNGG                  6              0      0  \n",
       "1        GAACAAGGTGTTCCCACCCGNGG                  6              0      0  \n",
       "2        GAACAAGGTGTTCCCACCCGNGG                  6              0      0  \n",
       "3        GAACAAGGTGTTCCCACCCGNGG                  6              0      0  \n",
       "4        GAACAAGGTGTTCCCACCCGNGG                  6              0      0  \n",
       "...                          ...                ...            ...    ...  \n",
       "4936273  GTTTGCGACTCTGACAGAGCNGG                  6              0      0  \n",
       "4936274  GTTTGCGACTCTGACAGAGCNGG                  6              0      0  \n",
       "4936275  GTTTGCGACTCTGACAGAGCNGG                  6              0      0  \n",
       "4936276  GTTTGCGACTCTGACAGAGCNGG                  6              0      0  \n",
       "4936277  GTTTGCGACTCTGACAGAGCNGG                  4              1      0  \n",
       "\n",
       "[4936278 rows x 11 columns]"
      ]
     },
     "execution_count": 1,
     "metadata": {},
     "output_type": "execute_result"
    }
   ],
   "source": [
    "import pandas as pd\n",
    "df_target = pd.read_csv('files/datasets/CHANGEseq/include_on_targets/CHANGEseq_CR_Lazzarotto_2020_dataset.csv')\n",
    "df_target"
   ]
  },
  {
   "cell_type": "code",
   "execution_count": 70,
   "id": "393b8a93-530d-4621-95a6-4a4f50f0a639",
   "metadata": {},
   "outputs": [
    {
     "data": {
      "text/plain": [
       "chrom\n",
       "chr1     417709\n",
       "chr2     377867\n",
       "chr3     290927\n",
       "chr7     264637\n",
       "chr5     253535\n",
       "chr6     243714\n",
       "chr11    240889\n",
       "chr4     240775\n",
       "chr10    234263\n",
       "chr8     224628\n",
       "chr12    218594\n",
       "chr9     218030\n",
       "chrX     216082\n",
       "chr17    211662\n",
       "chr16    189765\n",
       "chr19    177892\n",
       "chr15    159153\n",
       "chr14    150466\n",
       "chr20    135960\n",
       "chr13    128159\n",
       "chr18    118576\n",
       "chr22    113369\n",
       "chr21     70054\n",
       "chrY      39547\n",
       "chrM         25\n",
       "Name: count, dtype: int64"
      ]
     },
     "execution_count": 70,
     "metadata": {},
     "output_type": "execute_result"
    }
   ],
   "source": []
  },
  {
   "cell_type": "code",
   "execution_count": 50,
   "id": "593a4028-4aee-4a92-a6f5-e1066719ee0f",
   "metadata": {},
   "outputs": [
    {
     "data": {
      "text/html": [
       "<div>\n",
       "<style scoped>\n",
       "    .dataframe tbody tr th:only-of-type {\n",
       "        vertical-align: middle;\n",
       "    }\n",
       "\n",
       "    .dataframe tbody tr th {\n",
       "        vertical-align: top;\n",
       "    }\n",
       "\n",
       "    .dataframe thead th {\n",
       "        text-align: right;\n",
       "    }\n",
       "</style>\n",
       "<table border=\"1\" class=\"dataframe\">\n",
       "  <thead>\n",
       "    <tr style=\"text-align: right;\">\n",
       "      <th></th>\n",
       "      <th>sgRNA</th>\n",
       "      <th>chrom</th>\n",
       "      <th>SiteWindow</th>\n",
       "      <th>Align.strand</th>\n",
       "      <th>Align.chromStart</th>\n",
       "      <th>Align.chromEnd</th>\n",
       "      <th>Align.off-target</th>\n",
       "      <th>Align.sgRNA</th>\n",
       "      <th>Align.#Mismatches</th>\n",
       "      <th>Align.#Bulges</th>\n",
       "      <th>reads</th>\n",
       "      <th>len</th>\n",
       "    </tr>\n",
       "  </thead>\n",
       "  <tbody>\n",
       "    <tr>\n",
       "      <th>0</th>\n",
       "      <td>GAACAAGGTGTTCCCACCCGNGG</td>\n",
       "      <td>chr1</td>\n",
       "      <td>ACACAACAAAGGAGAAATGTCCCATGCACAAGGTGCACCCATGCCT...</td>\n",
       "      <td>+</td>\n",
       "      <td>31230</td>\n",
       "      <td>31253</td>\n",
       "      <td>GCACAAGGTGCACCCATGCCTGG</td>\n",
       "      <td>GAACAAGGTGTTCCCACCCGNGG</td>\n",
       "      <td>6</td>\n",
       "      <td>0</td>\n",
       "      <td>0</td>\n",
       "      <td>23</td>\n",
       "    </tr>\n",
       "    <tr>\n",
       "      <th>1</th>\n",
       "      <td>GAACAAGGTGTTCCCACCCGNGG</td>\n",
       "      <td>chr1</td>\n",
       "      <td>TGGGCGTGTTAAGCTTGTTTTCCTGCAACTGGATGTTCCCACCTGA...</td>\n",
       "      <td>+</td>\n",
       "      <td>139830</td>\n",
       "      <td>139853</td>\n",
       "      <td>CAACTGGATGTTCCCACCTGAGC</td>\n",
       "      <td>GAACAAGGTGTTCCCACCCGNGG</td>\n",
       "      <td>6</td>\n",
       "      <td>0</td>\n",
       "      <td>0</td>\n",
       "      <td>23</td>\n",
       "    </tr>\n",
       "    <tr>\n",
       "      <th>2</th>\n",
       "      <td>GAACAAGGTGTTCCCACCCGNGG</td>\n",
       "      <td>chr1</td>\n",
       "      <td>AACCCAAGAAGACAGTTACGGGAACCCCCGATTGGTAACAGGTTGG...</td>\n",
       "      <td>-</td>\n",
       "      <td>142036</td>\n",
       "      <td>142059</td>\n",
       "      <td>GACCAACCTGTTACCAATCGGGG</td>\n",
       "      <td>GAACAAGGTGTTCCCACCCGNGG</td>\n",
       "      <td>6</td>\n",
       "      <td>0</td>\n",
       "      <td>0</td>\n",
       "      <td>23</td>\n",
       "    </tr>\n",
       "    <tr>\n",
       "      <th>3</th>\n",
       "      <td>GAACAAGGTGTTCCCACCCGNGG</td>\n",
       "      <td>chr1</td>\n",
       "      <td>ACACAACAAAGGAGAAATGTCCCATGCACAAGGTGCACCCATGCCT...</td>\n",
       "      <td>+</td>\n",
       "      <td>201750</td>\n",
       "      <td>201773</td>\n",
       "      <td>GCACAAGGTGCACCCATGCCTGG</td>\n",
       "      <td>GAACAAGGTGTTCCCACCCGNGG</td>\n",
       "      <td>6</td>\n",
       "      <td>0</td>\n",
       "      <td>0</td>\n",
       "      <td>23</td>\n",
       "    </tr>\n",
       "    <tr>\n",
       "      <th>4</th>\n",
       "      <td>GAACAAGGTGTTCCCACCCGNGG</td>\n",
       "      <td>chr1</td>\n",
       "      <td>TTATGTGGTCTTATTCCCATAACTGGGGCCAGATGATCCCACCCTG...</td>\n",
       "      <td>+</td>\n",
       "      <td>384430</td>\n",
       "      <td>384453</td>\n",
       "      <td>GGGCCAGATGATCCCACCCTGGG</td>\n",
       "      <td>GAACAAGGTGTTCCCACCCGNGG</td>\n",
       "      <td>6</td>\n",
       "      <td>0</td>\n",
       "      <td>0</td>\n",
       "      <td>23</td>\n",
       "    </tr>\n",
       "    <tr>\n",
       "      <th>...</th>\n",
       "      <td>...</td>\n",
       "      <td>...</td>\n",
       "      <td>...</td>\n",
       "      <td>...</td>\n",
       "      <td>...</td>\n",
       "      <td>...</td>\n",
       "      <td>...</td>\n",
       "      <td>...</td>\n",
       "      <td>...</td>\n",
       "      <td>...</td>\n",
       "      <td>...</td>\n",
       "      <td>...</td>\n",
       "    </tr>\n",
       "    <tr>\n",
       "      <th>4936273</th>\n",
       "      <td>GTTTGCGACTCTGACAGAGCNGG</td>\n",
       "      <td>chrY</td>\n",
       "      <td>TATACCGAATGGATAGGCCTATGGATCGGCTCTTTCAAAGTTGTAA...</td>\n",
       "      <td>-</td>\n",
       "      <td>25438794</td>\n",
       "      <td>25438817</td>\n",
       "      <td>GATTACAACTTTGAAAGAGCCGA</td>\n",
       "      <td>GTTTGCGACTCTGACAGAGCNGG</td>\n",
       "      <td>6</td>\n",
       "      <td>0</td>\n",
       "      <td>0</td>\n",
       "      <td>23</td>\n",
       "    </tr>\n",
       "    <tr>\n",
       "      <th>4936274</th>\n",
       "      <td>GTTTGCGACTCTGACAGAGCNGG</td>\n",
       "      <td>chrY</td>\n",
       "      <td>AAAAGGAGATTAGGAAATGAGGGAAGCAGCGCTGTCAGAGTTTCCA...</td>\n",
       "      <td>-</td>\n",
       "      <td>25475441</td>\n",
       "      <td>25475464</td>\n",
       "      <td>TTTGGAAACTCTGACAGCGCTGC</td>\n",
       "      <td>GTTTGCGACTCTGACAGAGCNGG</td>\n",
       "      <td>6</td>\n",
       "      <td>0</td>\n",
       "      <td>0</td>\n",
       "      <td>23</td>\n",
       "    </tr>\n",
       "    <tr>\n",
       "      <th>4936275</th>\n",
       "      <td>GTTTGCGACTCTGACAGAGCNGG</td>\n",
       "      <td>chrY</td>\n",
       "      <td>ACTCCTGGCTTCAAGTACTCTGCCTGTTTTGGCCTCTAAAAGTGCC...</td>\n",
       "      <td>+</td>\n",
       "      <td>25579286</td>\n",
       "      <td>25579309</td>\n",
       "      <td>GTTTTGGCCTCTAAAAGTGCCGG</td>\n",
       "      <td>GTTTGCGACTCTGACAGAGCNGG</td>\n",
       "      <td>6</td>\n",
       "      <td>0</td>\n",
       "      <td>0</td>\n",
       "      <td>23</td>\n",
       "    </tr>\n",
       "    <tr>\n",
       "      <th>4936276</th>\n",
       "      <td>GTTTGCGACTCTGACAGAGCNGG</td>\n",
       "      <td>chrY</td>\n",
       "      <td>TTTAAAACGTTAGACCTTCAGTGGTCCTCCTCCTTCAGCCTCCCAA...</td>\n",
       "      <td>-</td>\n",
       "      <td>25692093</td>\n",
       "      <td>25692116</td>\n",
       "      <td>GTTTGGGAGGCTGAAGGAGGAGG</td>\n",
       "      <td>GTTTGCGACTCTGACAGAGCNGG</td>\n",
       "      <td>6</td>\n",
       "      <td>0</td>\n",
       "      <td>0</td>\n",
       "      <td>23</td>\n",
       "    </tr>\n",
       "    <tr>\n",
       "      <th>4936277</th>\n",
       "      <td>GTTTGCGACTCTGACAGAGCNGG</td>\n",
       "      <td>chrY</td>\n",
       "      <td>ATTTGTAAAATAAATAAAAGCACCAGCTTTGGAGTCAGACAGACCA...</td>\n",
       "      <td>+</td>\n",
       "      <td>26359378</td>\n",
       "      <td>26359400</td>\n",
       "      <td>CTTTG-GAGTCAGACAGACCAGG</td>\n",
       "      <td>GTTTGCGACTCTGACAGAGCNGG</td>\n",
       "      <td>4</td>\n",
       "      <td>1</td>\n",
       "      <td>0</td>\n",
       "      <td>22</td>\n",
       "    </tr>\n",
       "  </tbody>\n",
       "</table>\n",
       "<p>4936278 rows × 12 columns</p>\n",
       "</div>"
      ],
      "text/plain": [
       "                           sgRNA chrom  \\\n",
       "0        GAACAAGGTGTTCCCACCCGNGG  chr1   \n",
       "1        GAACAAGGTGTTCCCACCCGNGG  chr1   \n",
       "2        GAACAAGGTGTTCCCACCCGNGG  chr1   \n",
       "3        GAACAAGGTGTTCCCACCCGNGG  chr1   \n",
       "4        GAACAAGGTGTTCCCACCCGNGG  chr1   \n",
       "...                          ...   ...   \n",
       "4936273  GTTTGCGACTCTGACAGAGCNGG  chrY   \n",
       "4936274  GTTTGCGACTCTGACAGAGCNGG  chrY   \n",
       "4936275  GTTTGCGACTCTGACAGAGCNGG  chrY   \n",
       "4936276  GTTTGCGACTCTGACAGAGCNGG  chrY   \n",
       "4936277  GTTTGCGACTCTGACAGAGCNGG  chrY   \n",
       "\n",
       "                                                SiteWindow Align.strand  \\\n",
       "0        ACACAACAAAGGAGAAATGTCCCATGCACAAGGTGCACCCATGCCT...            +   \n",
       "1        TGGGCGTGTTAAGCTTGTTTTCCTGCAACTGGATGTTCCCACCTGA...            +   \n",
       "2        AACCCAAGAAGACAGTTACGGGAACCCCCGATTGGTAACAGGTTGG...            -   \n",
       "3        ACACAACAAAGGAGAAATGTCCCATGCACAAGGTGCACCCATGCCT...            +   \n",
       "4        TTATGTGGTCTTATTCCCATAACTGGGGCCAGATGATCCCACCCTG...            +   \n",
       "...                                                    ...          ...   \n",
       "4936273  TATACCGAATGGATAGGCCTATGGATCGGCTCTTTCAAAGTTGTAA...            -   \n",
       "4936274  AAAAGGAGATTAGGAAATGAGGGAAGCAGCGCTGTCAGAGTTTCCA...            -   \n",
       "4936275  ACTCCTGGCTTCAAGTACTCTGCCTGTTTTGGCCTCTAAAAGTGCC...            +   \n",
       "4936276  TTTAAAACGTTAGACCTTCAGTGGTCCTCCTCCTTCAGCCTCCCAA...            -   \n",
       "4936277  ATTTGTAAAATAAATAAAAGCACCAGCTTTGGAGTCAGACAGACCA...            +   \n",
       "\n",
       "         Align.chromStart  Align.chromEnd         Align.off-target  \\\n",
       "0                   31230           31253  GCACAAGGTGCACCCATGCCTGG   \n",
       "1                  139830          139853  CAACTGGATGTTCCCACCTGAGC   \n",
       "2                  142036          142059  GACCAACCTGTTACCAATCGGGG   \n",
       "3                  201750          201773  GCACAAGGTGCACCCATGCCTGG   \n",
       "4                  384430          384453  GGGCCAGATGATCCCACCCTGGG   \n",
       "...                   ...             ...                      ...   \n",
       "4936273          25438794        25438817  GATTACAACTTTGAAAGAGCCGA   \n",
       "4936274          25475441        25475464  TTTGGAAACTCTGACAGCGCTGC   \n",
       "4936275          25579286        25579309  GTTTTGGCCTCTAAAAGTGCCGG   \n",
       "4936276          25692093        25692116  GTTTGGGAGGCTGAAGGAGGAGG   \n",
       "4936277          26359378        26359400  CTTTG-GAGTCAGACAGACCAGG   \n",
       "\n",
       "                     Align.sgRNA  Align.#Mismatches  Align.#Bulges  reads  len  \n",
       "0        GAACAAGGTGTTCCCACCCGNGG                  6              0      0   23  \n",
       "1        GAACAAGGTGTTCCCACCCGNGG                  6              0      0   23  \n",
       "2        GAACAAGGTGTTCCCACCCGNGG                  6              0      0   23  \n",
       "3        GAACAAGGTGTTCCCACCCGNGG                  6              0      0   23  \n",
       "4        GAACAAGGTGTTCCCACCCGNGG                  6              0      0   23  \n",
       "...                          ...                ...            ...    ...  ...  \n",
       "4936273  GTTTGCGACTCTGACAGAGCNGG                  6              0      0   23  \n",
       "4936274  GTTTGCGACTCTGACAGAGCNGG                  6              0      0   23  \n",
       "4936275  GTTTGCGACTCTGACAGAGCNGG                  6              0      0   23  \n",
       "4936276  GTTTGCGACTCTGACAGAGCNGG                  6              0      0   23  \n",
       "4936277  GTTTGCGACTCTGACAGAGCNGG                  4              1      0   22  \n",
       "\n",
       "[4936278 rows x 12 columns]"
      ]
     },
     "execution_count": 50,
     "metadata": {},
     "output_type": "execute_result"
    }
   ],
   "source": [
    "df_target['len'] = df_target['Align.chromEnd']-df_target['Align.chromStart']\n",
    "df_target"
   ]
  },
  {
   "cell_type": "code",
   "execution_count": 239,
   "id": "cbb34c81-128f-443d-bea5-0de896830604",
   "metadata": {},
   "outputs": [],
   "source": [
    "from pathlib import Path\n",
    "from pyfaidx import Fasta\n",
    "import polars as pl\n",
    "import pandas as pd\n",
    "import torch\n",
    "from random import randrange, random\n",
    "import numpy as np\n",
    "\n",
    "string_complement_map = {'A': 'T', 'C': 'G', 'G': 'C', 'T': 'A', 'a': 't', 'c': 'g', 'g': 'c', 't': 'a'}\n",
    "\n",
    "def string_reverse_complement(seq):\n",
    "    rev_comp = ''\n",
    "    for base in seq[::-1]:\n",
    "        if base in string_complement_map:\n",
    "            rev_comp += string_complement_map[base]\n",
    "        # if bp not complement map, use the same bp\n",
    "        else:\n",
    "            rev_comp += base\n",
    "    return rev_comp\n",
    "\n",
    "class FastaInterval():\n",
    "    def __init__(\n",
    "        self,\n",
    "        fasta_file,\n",
    "        pad_interval=True,\n",
    "        add_cls=True,\n",
    "    ):\n",
    "        fasta_file = Path(fasta_file)\n",
    "        assert fasta_file.exists(), 'path to fasta file must exist'\n",
    "        self.seqs = Fasta(str(fasta_file))\n",
    "\n",
    "        self.pad_interval = pad_interval\n",
    "        self.add_cls = add_cls\n",
    "            \n",
    "        # calc len of each chromosome in fasta file, store in dict\n",
    "        self.chr_lens = {}\n",
    "        for chr_name in self.seqs.keys():\n",
    "            self.chr_lens[chr_name] = len(self.seqs[chr_name])\n",
    "\n",
    "        print(self.chr_lens)\n",
    "    def __call__(self, chr_name, start, end, cls_index, rc=False):\n",
    "        \n",
    "        chromosome = self.seqs[chr_name]\n",
    "        # chromosome_length = len(chromosome)\n",
    "        chromosome_length = self.chr_lens[chr_name]\n",
    "\n",
    "        left_padding = right_padding = 0\n",
    "        if start < 0:\n",
    "            left_padding = -start\n",
    "            start = 0\n",
    "        if end > chromosome_length:\n",
    "            right_padding = end - chromosome_length\n",
    "            end = chromosome_length\n",
    "\n",
    "        seq = str(chromosome[start:end])\n",
    "        if self.pad_interval:\n",
    "            seq = ('.' * left_padding) + seq + ('.' * right_padding)\n",
    "        if rc:\n",
    "            seq = string_reverse_complement(seq)\n",
    "        if self.add_cls:\n",
    "            seq[:cls_index] + '[CLS]' + seq[cls_index:]\n",
    "        return seq"
   ]
  },
  {
   "cell_type": "code",
   "execution_count": 264,
   "id": "00d72dc1-0472-41dc-8ac4-9ee8598a3c73",
   "metadata": {},
   "outputs": [],
   "source": [
    "import pytorch_lightning as pl\n",
    "from torch.utils.data import DataLoader, Dataset\n",
    "from transformers import AutoTokenizer\n",
    "\n",
    "\n",
    "class ChangeSeqDataset(Dataset):\n",
    "    def __init__(self, df, genome, dna_sequence_length=1000, task='regression', threshold=0):\n",
    "        super().__init__()\n",
    "        self.df = df.reset_index(drop=True).query('chrom!=\"chrY\"').query('chrom!=\"chrM\"')\n",
    "        self.genome = genome\n",
    "        self.dna_sequence_length = dna_sequence_length\n",
    "        \n",
    "        self.length = 23 # length of target dna in dataset\n",
    "        self.added_context = int((self.dna_sequence_length - self.length)/2)\n",
    "        self.roi_start = self.added_context - 1\n",
    "        self.roi_end = self.added_context + self.length - 1\n",
    "        self.roi = (self.roi_start, self.roi_end)\n",
    "        \n",
    "        self.task = task\n",
    "        self.threshold = threshold\n",
    "        \n",
    "    def __len__(self):\n",
    "        return len(self.df)\n",
    "\n",
    "    def __getitem__(self, idx):\n",
    "        row = self.df.iloc[idx]\n",
    "        chrom, strand, _, end = row[['chrom', 'Align.strand', 'Align.chromStart', 'Align.chromEnd']].values\n",
    "        start = end - self.length - self.added_context # select start based on end since bulges modify length\n",
    "        end = end + self.added_context\n",
    "        sgRNA = row['sgRNA']\n",
    "\n",
    "        dna = self.genome(chrom, start, end, rc=strand=='-', cls_index=self.roi_end if strand=='+' else self.roi_start)\n",
    "        #print(strand, dna, row['Align.off-target'], end-start, len(dna))\n",
    "        counts = torch.tensor([row['reads']])\n",
    "        if self.task=='regression':\n",
    "            y = torch.log(1+counts)\n",
    "        elif self.task == 'classification':\n",
    "            y = (counts > self.threshold).int()\n",
    "        return sgRNA, dna, y\n",
    "\n",
    "class ChangeSeqDataModule(pl.LightningDataModule):\n",
    "    def __init__(self, \n",
    "                 data_path: str,\n",
    "                 fasta_path: str, \n",
    "                 dna_sequence_length: int = 1000,\n",
    "                 task: str = 'classification',\n",
    "                 threshold: int = 0,\n",
    "                 batch_size: int = 32, \n",
    "                 num_workers: int = 0):\n",
    "        super().__init__()\n",
    "        self.df = pd.read_csv(data_path)\n",
    "        self.genome = FastaInterval(fasta_path)\n",
    "        self.batch_size = batch_size\n",
    "        self.num_workers = num_workers\n",
    "        self.dna_sequence_length = dna_sequence_length\n",
    "        self.task = task\n",
    "        self.threshold = threshold\n",
    "\n",
    "        self.length = 23 # length of target dna in dataset\n",
    "        self.added_context = int((self.dna_sequence_length - self.length)/2)\n",
    "        self.roi_start = self.added_context - 1\n",
    "        self.roi_end = self.added_context + self.length - 1\n",
    "        self.roi = (self.roi_start, self.roi_end)\n",
    "        \n",
    "        train_sgRNA, test_sgRNA = torch.utils.data.random_split(pd.unique(self.df['sgRNA']), [0.8, 0.2])\n",
    "\n",
    "        split = []\n",
    "        for sgRNA in df_target.sgRNA:\n",
    "            if sgRNA in test_sgRNA:\n",
    "                split.append('val')\n",
    "            else:\n",
    "                split.append('train')\n",
    "\n",
    "        self.df['split'] = split\n",
    "\n",
    "    def setup(self, stage: str = None):\n",
    "        \"\"\"\n",
    "        Sets up datasets for different stages: 'fit', 'test', 'predict'.\n",
    "        \"\"\"\n",
    "        if stage == \"fit\" or stage is None:\n",
    "            self.train_dataset = ChangeSeqDataset(\n",
    "                self.df.query('split==\"train\"'), \n",
    "                self.genome, \n",
    "                dna_sequence_length=self.dna_sequence_length,\n",
    "                task = self.task,\n",
    "                threshold = self.threshold,\n",
    "            )\n",
    "            self.val_dataset = ChangeSeqDataset(\n",
    "                self.df.query('split==\"val\"'), \n",
    "                self.genome, \n",
    "                dna_sequence_length=self.dna_sequence_length,\n",
    "                task = self.task,\n",
    "                threshold = self.threshold,\n",
    "            )\n",
    "        if stage == \"test\" or stage is None:\n",
    "            self.test_dataset = ChangeSeqDataset(\n",
    "                self.df.query('split==\"test\"'), \n",
    "                self.genome, \n",
    "                dna_sequence_length=self.dna_sequence_length,\n",
    "                task = self.task,\n",
    "                threshold = self.threshold,\n",
    "            )\n",
    "        if stage == \"predict\":\n",
    "            self.test_dataset = ChangeSeqDataset(\n",
    "                self.df, \n",
    "                self.genome, \n",
    "                dna_sequence_length=self.dna_sequence_length,\n",
    "                task = self.task,\n",
    "                threshold = self.threshold,\n",
    "            )\n",
    "\n",
    "    def dataloader(self, dataset, shuffle=True):\n",
    "        return DataLoader(\n",
    "            dataset, \n",
    "            batch_size=self.batch_size, \n",
    "            num_workers=self.num_workers,\n",
    "            shuffle=shuffle,\n",
    "        )\n",
    "    def train_dataloader(self):\n",
    "        return self.dataloader(self.train_dataset, shuffle=True)\n",
    "    def val_dataloader(self):\n",
    "        return self.dataloader(self.val_dataset, shuffle=True)\n",
    "    def test_dataloader(self):\n",
    "        return self.dataloader(self.test_dataset, shuffle=True)\n",
    "    def predict_dataloader(self):\n",
    "        return self.dataloader(self.predict_dataset, shuffle=False)\n"
   ]
  },
  {
   "cell_type": "code",
   "execution_count": 265,
   "id": "204910ed-4fdf-4d17-9f2b-3f6b235246f4",
   "metadata": {},
   "outputs": [
    {
     "name": "stdout",
     "output_type": "stream",
     "text": [
      "{'chr1': 248956422, 'chr10': 133797422, 'chr11': 135086622, 'chr12': 133275309, 'chr13': 114364328, 'chr14': 107043718, 'chr15': 101991189, 'chr16': 90338345, 'chr17': 83257441, 'chr18': 80373285, 'chr19': 58617616, 'chr2': 242193529, 'chr20': 64444167, 'chr21': 46709983, 'chr22': 50818468, 'chr3': 198295559, 'chr4': 190214555, 'chr5': 181538259, 'chr6': 170805979, 'chr7': 159345973, 'chr8': 145138636, 'chr9': 138394717, 'chrX': 156040895}\n"
     ]
    }
   ],
   "source": [
    "change_seq_path = 'files/datasets/CHANGEseq/include_on_targets/CHANGEseq_CR_Lazzarotto_2020_dataset.csv'\n",
    "fasta_path = '../../hg38/hg38.ml.fa'\n",
    "tokenizer_path = 'kuleshov-group/caduceus-ph_seqlen-131k_d_model-256_n_layer-16'\n",
    "datamodule = ChangeSeqDataModule(change_seq_path, fasta_path, dna_sequence_length=512-48-2)"
   ]
  },
  {
   "cell_type": "code",
   "execution_count": 266,
   "id": "f03f69e0-fb6d-4ee8-8f52-a148f937f327",
   "metadata": {},
   "outputs": [],
   "source": [
    "datamodule.setup('fit')\n",
    "loader = datamodule.val_dataloader()\n",
    "batch = next(iter(loader))"
   ]
  },
  {
   "cell_type": "code",
   "execution_count": 267,
   "id": "fe6f91d8-253f-4d35-9b5a-670f4dfa82cd",
   "metadata": {},
   "outputs": [],
   "source": [
    "import torch\n",
    "import torch.nn as nn\n",
    "import torch.nn.functional as F\n",
    "from mamba_ssm import Mamba2\n",
    "import torch\n",
    "import torch.nn as nn\n",
    "import torch.nn.functional as F\n",
    "import pytorch_lightning as pl\n",
    "from torchmetrics import AveragePrecision, AUROC\n",
    "\n",
    "class BiMambaEncoder(nn.Module):\n",
    "    def __init__(self, d_model, d_state, d_conv, expand, bidirectional_method='add'):\n",
    "        super(BiMambaEncoder, self).__init__()\n",
    "        self.d_model = d_model\n",
    "        self.bidirectional_method = bidirectional_method\n",
    "        \n",
    "        self.mamba = Mamba2(d_model=d_model, d_state=d_state, d_conv=d_conv, expand=expand)\n",
    "\n",
    "        # Norm and feed-forward network layer\n",
    "        self.norm1 = nn.LayerNorm(d_model)\n",
    "        self.norm2 = nn.LayerNorm(d_model)\n",
    "        self.feed_forward = nn.Sequential(\n",
    "            nn.Linear(d_model, d_model * 4),\n",
    "            nn.GELU(),\n",
    "            nn.Linear(d_model * 4, d_model)\n",
    "        )\n",
    "        if self.bidirectional_method=='concat':\n",
    "            self.reducer = nn.Linear(d_model * 2, d_model)\n",
    "            \n",
    "    def forward(self, x):\n",
    "        # Residual connection of the original input\n",
    "        residual = x\n",
    "        \n",
    "        # Forward Mamba\n",
    "        x_norm = self.norm1(x)\n",
    "        mamba_out_forward = self.mamba(x_norm)\n",
    "\n",
    "        # Backward Mamba\n",
    "        x_flip = torch.flip(x_norm, dims=[1])  # Flip Sequence\n",
    "        mamba_out_backward = self.mamba(x_flip)\n",
    "        mamba_out_backward = torch.flip(mamba_out_backward, dims=[1])  # Flip back\n",
    "\n",
    "        # Combining forward and backward\n",
    "        if self.bidirectional_method=='add':\n",
    "            mamba_out = mamba_out_forward + mamba_out_backward\n",
    "        elif self.bidirectional_method=='concat':\n",
    "            mamba_out = torch.cat([mamba_out_forward, mamba_out_backward], dim=-1)\n",
    "            mamba_out = self.reducer(mamba_out)\n",
    "        else:\n",
    "            raise NotImplementedError(f'bidirectional_method {self.bidirectional_method} is not implemented.')\n",
    "        \n",
    "        mamba_out = self.norm2(mamba_out)\n",
    "        ff_out = self.feed_forward(mamba_out)\n",
    "\n",
    "        output = ff_out + residual\n",
    "        return output\n",
    "\n",
    "class BiMambaStack(nn.Module):\n",
    "    def __init__(self, n_layers, dim, d_state, d_conv, expand, bidirectional_method='add'):\n",
    "        super().__init__()\n",
    "        self.backbone = nn.Sequential(\n",
    "            *[BiMambaEncoder(dim, d_state, d_conv, expand, bidirectional_method=bidirectional_method) for _ in range(n_layers)]\n",
    "        )\n",
    "    def forward(self, seq):\n",
    "        return self.backbone(seq)\n",
    "\n",
    "class BaseModule(pl.LightningModule): \n",
    "    def __init__(self):\n",
    "        super().__init__()\n",
    "\n",
    "        # Define a loss function\n",
    "        self.criterion = nn.CrossEntropyLoss()\n",
    "\n",
    "        # Define metrics\n",
    "        self.train_auprc = AveragePrecision(task=\"binary\")\n",
    "        self.val_auprc = AveragePrecision(task=\"binary\")\n",
    "        self.test_auprc = AveragePrecision(task=\"binary\")\n",
    "\n",
    "        self.train_auc = AUROC(task=\"binary\")\n",
    "        self.val_auc = AUROC(task=\"binary\")\n",
    "        self.test_auc = AUROC(task=\"binary\")\n",
    "        \n",
    "    def step(self, batch):\n",
    "        rna, dna, y = batch\n",
    "        y_hat = self(rna, dna)\n",
    "        loss = self.criterion(y_hat, y.float())\n",
    "        return loss, y, y_hat\n",
    "        \n",
    "    def training_step(self, batch, batch_idx):\n",
    "        loss, y, y_hat = self.step(batch)\n",
    "        # Log training metrics\n",
    "        self.log(\"train_loss\", loss, on_step=True, on_epoch=True, prog_bar=True)\n",
    "        self.train_auprc(y_hat, y)\n",
    "        self.log(\"train_auprc\", self.train_auprc, on_step=False, on_epoch=True, prog_bar=True)\n",
    "        self.train_auc(y_hat, y)\n",
    "        self.log(\"train_auc\", self.train_auc, on_step=False, on_epoch=True, prog_bar=True)\n",
    "        return loss\n",
    "\n",
    "    def validation_step(self, batch, batch_idx):\n",
    "        loss, y, y_hat = self.step(batch)\n",
    "        # Log validation metrics\n",
    "        self.log(\"val_loss\", loss, on_step=False, on_epoch=True, prog_bar=True)\n",
    "        self.val_auprc(y_hat, y)\n",
    "        self.log(\"val_auprc\", self.val_auprc, on_step=False, on_epoch=True, prog_bar=True)\n",
    "        self.val_auc(y_hat, y)\n",
    "        self.log(\"val_auc\", self.val_auc, on_step=False, on_epoch=True, prog_bar=True)\n",
    "\n",
    "\n",
    "    def test_step(self, batch, batch_idx):\n",
    "        loss, y, y_hat = self.step(batch)\n",
    "        # Log test metrics\n",
    "        self.log(\"test_loss\", loss, on_step=False, on_epoch=True, prog_bar=True)\n",
    "        self.test_auprc(y_hat, y)\n",
    "        self.log(\"test_auprc\", self.test_auprc, on_step=False, on_epoch=True, prog_bar=True)\n",
    "        self.test_auc(y_hat, y)\n",
    "        self.log(\"test_auc\", self.test_auc, on_step=False, on_epoch=True, prog_bar=True)\n",
    "\n",
    "\n",
    "    def configure_optimizers(self):\n",
    "        optimizer = torch.optim.Adam(self.parameters(), lr=1e-4)\n",
    "        return optimizer\n",
    "\n",
    "class ChangeSeqModel(BaseModule):\n",
    "    def __init__(self, tokenizer, n_layers, dim, d_state, d_conv, expand, bidirectional_method='add', pooling='mean', task='regression'):\n",
    "        super().__init__()\n",
    "\n",
    "        # Model\n",
    "        self.tokenizer = tokenizer\n",
    "        self.sgrna_embedding = nn.Embedding(tokenizer.vocab_size, dim)\n",
    "        self.dna_embedding   = nn.Embedding(tokenizer.vocab_size, dim)\n",
    "    \n",
    "        self.backbone  = BiMambaStack(n_layers, dim, d_state, d_conv, expand, bidirectional_method=bidirectional_method)\n",
    "        \n",
    "        self.decoder = nn.Sequential(\n",
    "            nn.Linear(dim, 1), \n",
    "            nn.Sigmoid() if task=='classification' else nn.Identity()\n",
    "        )\n",
    "\n",
    "        self.pooling = pooling\n",
    "        self.task = task\n",
    "        \n",
    "        # Define a loss function\n",
    "        if self.task=='classification':\n",
    "            self.criterion = torch.nn.BCELoss()\n",
    "        elif self.task=='regression':\n",
    "            self.criterion = torch.nn.L1Loss()\n",
    "\n",
    "        # Define metrics\n",
    "        self.train_accuracy = Accuracy(task='binary')\n",
    "        self.val_accuracy   = Accuracy(task='binary')\n",
    "\n",
    "    def forward(self, rna, dna):\n",
    "        rna, dna = self.tokenizer(rna, return_tensors='pt')['input_ids'].to(self.device), self.tokenizer(dna, return_tensors='pt')['input_ids'].to(self.device)\n",
    "        rna, dna = self.sgrna_embedding(rna), self.dna_embedding(dna)\n",
    "        seq = torch.cat([rna, dna, rna], dim=-2)\n",
    "        seq = self.backbone(seq)\n",
    "        pooled = self.pool(seq)\n",
    "        return self.decoder(pooled)\n",
    "    \n",
    "    def on_start(self):\n",
    "        self.roi_start, self.roi_end = self.trainer.datamodule.roi\n",
    "    def on_fit_start(self):\n",
    "        self.on_start()\n",
    "    def on_predict_start(self):\n",
    "        self.on_start()\n",
    "\n",
    "    def pool(self, X):\n",
    "        if self.pooling=='mean':\n",
    "            return torch.mean(X[:,self.roi_start+24:self.roi_end+24], dim=-2) \n",
    "        elif self.pooling=='CLS':\n",
    "            return X[:,self.roi_end+24]\n",
    "             "
   ]
  },
  {
   "cell_type": "code",
   "execution_count": 268,
   "id": "d22f0393-f7a6-4fad-aeb5-df6bfbf7c334",
   "metadata": {},
   "outputs": [],
   "source": [
    "model_name = \"kuleshov-group/caduceus-ph_seqlen-131k_d_model-256_n_layer-16\"\n",
    "tokenizer = AutoTokenizer.from_pretrained(model_name, trust_remote_code=True)\n",
    "\n",
    "model = ChangeSeqModel(tokenizer, 8, 512, 512, 4, 2, bidirectional_method='concat', pooling='mean')"
   ]
  },
  {
   "cell_type": "code",
   "execution_count": 269,
   "id": "a9f3de50-ea69-4d36-8921-417e35dde111",
   "metadata": {},
   "outputs": [],
   "source": [
    "model.roi = datamodule.roi\n",
    "model.roi_start = datamodule.roi[0]\n",
    "model.roi_end = datamodule.roi[1]"
   ]
  },
  {
   "cell_type": "code",
   "execution_count": 270,
   "id": "6c10cdc1-2948-486b-9164-ce6a7590f39a",
   "metadata": {},
   "outputs": [],
   "source": [
    "batch = next(iter(loader))\n",
    "rna, dna = batch[0][0], batch[1][0]"
   ]
  },
  {
   "cell_type": "code",
   "execution_count": 271,
   "id": "2a348570-3d84-41b7-8082-e20abd6db203",
   "metadata": {},
   "outputs": [
    {
     "data": {
      "text/plain": [
       "ChangeSeqModel(\n",
       "  (criterion): L1Loss()\n",
       "  (train_auprc): BinaryAveragePrecision()\n",
       "  (val_auprc): BinaryAveragePrecision()\n",
       "  (test_auprc): BinaryAveragePrecision()\n",
       "  (train_auc): BinaryAUROC()\n",
       "  (val_auc): BinaryAUROC()\n",
       "  (test_auc): BinaryAUROC()\n",
       "  (sgrna_embedding): Embedding(12, 512)\n",
       "  (dna_embedding): Embedding(12, 512)\n",
       "  (backbone): BiMambaStack(\n",
       "    (backbone): Sequential(\n",
       "      (0): BiMambaEncoder(\n",
       "        (mamba): Mamba2(\n",
       "          (in_proj): Linear(in_features=512, out_features=3088, bias=False)\n",
       "          (conv1d): Conv1d(2048, 2048, kernel_size=(4,), stride=(1,), padding=(3,), groups=2048)\n",
       "          (act): SiLU()\n",
       "          (norm): RMSNorm()\n",
       "          (out_proj): Linear(in_features=1024, out_features=512, bias=False)\n",
       "        )\n",
       "        (norm1): LayerNorm((512,), eps=1e-05, elementwise_affine=True)\n",
       "        (norm2): LayerNorm((512,), eps=1e-05, elementwise_affine=True)\n",
       "        (feed_forward): Sequential(\n",
       "          (0): Linear(in_features=512, out_features=2048, bias=True)\n",
       "          (1): GELU(approximate='none')\n",
       "          (2): Linear(in_features=2048, out_features=512, bias=True)\n",
       "        )\n",
       "        (reducer): Linear(in_features=1024, out_features=512, bias=True)\n",
       "      )\n",
       "      (1): BiMambaEncoder(\n",
       "        (mamba): Mamba2(\n",
       "          (in_proj): Linear(in_features=512, out_features=3088, bias=False)\n",
       "          (conv1d): Conv1d(2048, 2048, kernel_size=(4,), stride=(1,), padding=(3,), groups=2048)\n",
       "          (act): SiLU()\n",
       "          (norm): RMSNorm()\n",
       "          (out_proj): Linear(in_features=1024, out_features=512, bias=False)\n",
       "        )\n",
       "        (norm1): LayerNorm((512,), eps=1e-05, elementwise_affine=True)\n",
       "        (norm2): LayerNorm((512,), eps=1e-05, elementwise_affine=True)\n",
       "        (feed_forward): Sequential(\n",
       "          (0): Linear(in_features=512, out_features=2048, bias=True)\n",
       "          (1): GELU(approximate='none')\n",
       "          (2): Linear(in_features=2048, out_features=512, bias=True)\n",
       "        )\n",
       "        (reducer): Linear(in_features=1024, out_features=512, bias=True)\n",
       "      )\n",
       "      (2): BiMambaEncoder(\n",
       "        (mamba): Mamba2(\n",
       "          (in_proj): Linear(in_features=512, out_features=3088, bias=False)\n",
       "          (conv1d): Conv1d(2048, 2048, kernel_size=(4,), stride=(1,), padding=(3,), groups=2048)\n",
       "          (act): SiLU()\n",
       "          (norm): RMSNorm()\n",
       "          (out_proj): Linear(in_features=1024, out_features=512, bias=False)\n",
       "        )\n",
       "        (norm1): LayerNorm((512,), eps=1e-05, elementwise_affine=True)\n",
       "        (norm2): LayerNorm((512,), eps=1e-05, elementwise_affine=True)\n",
       "        (feed_forward): Sequential(\n",
       "          (0): Linear(in_features=512, out_features=2048, bias=True)\n",
       "          (1): GELU(approximate='none')\n",
       "          (2): Linear(in_features=2048, out_features=512, bias=True)\n",
       "        )\n",
       "        (reducer): Linear(in_features=1024, out_features=512, bias=True)\n",
       "      )\n",
       "      (3): BiMambaEncoder(\n",
       "        (mamba): Mamba2(\n",
       "          (in_proj): Linear(in_features=512, out_features=3088, bias=False)\n",
       "          (conv1d): Conv1d(2048, 2048, kernel_size=(4,), stride=(1,), padding=(3,), groups=2048)\n",
       "          (act): SiLU()\n",
       "          (norm): RMSNorm()\n",
       "          (out_proj): Linear(in_features=1024, out_features=512, bias=False)\n",
       "        )\n",
       "        (norm1): LayerNorm((512,), eps=1e-05, elementwise_affine=True)\n",
       "        (norm2): LayerNorm((512,), eps=1e-05, elementwise_affine=True)\n",
       "        (feed_forward): Sequential(\n",
       "          (0): Linear(in_features=512, out_features=2048, bias=True)\n",
       "          (1): GELU(approximate='none')\n",
       "          (2): Linear(in_features=2048, out_features=512, bias=True)\n",
       "        )\n",
       "        (reducer): Linear(in_features=1024, out_features=512, bias=True)\n",
       "      )\n",
       "      (4): BiMambaEncoder(\n",
       "        (mamba): Mamba2(\n",
       "          (in_proj): Linear(in_features=512, out_features=3088, bias=False)\n",
       "          (conv1d): Conv1d(2048, 2048, kernel_size=(4,), stride=(1,), padding=(3,), groups=2048)\n",
       "          (act): SiLU()\n",
       "          (norm): RMSNorm()\n",
       "          (out_proj): Linear(in_features=1024, out_features=512, bias=False)\n",
       "        )\n",
       "        (norm1): LayerNorm((512,), eps=1e-05, elementwise_affine=True)\n",
       "        (norm2): LayerNorm((512,), eps=1e-05, elementwise_affine=True)\n",
       "        (feed_forward): Sequential(\n",
       "          (0): Linear(in_features=512, out_features=2048, bias=True)\n",
       "          (1): GELU(approximate='none')\n",
       "          (2): Linear(in_features=2048, out_features=512, bias=True)\n",
       "        )\n",
       "        (reducer): Linear(in_features=1024, out_features=512, bias=True)\n",
       "      )\n",
       "      (5): BiMambaEncoder(\n",
       "        (mamba): Mamba2(\n",
       "          (in_proj): Linear(in_features=512, out_features=3088, bias=False)\n",
       "          (conv1d): Conv1d(2048, 2048, kernel_size=(4,), stride=(1,), padding=(3,), groups=2048)\n",
       "          (act): SiLU()\n",
       "          (norm): RMSNorm()\n",
       "          (out_proj): Linear(in_features=1024, out_features=512, bias=False)\n",
       "        )\n",
       "        (norm1): LayerNorm((512,), eps=1e-05, elementwise_affine=True)\n",
       "        (norm2): LayerNorm((512,), eps=1e-05, elementwise_affine=True)\n",
       "        (feed_forward): Sequential(\n",
       "          (0): Linear(in_features=512, out_features=2048, bias=True)\n",
       "          (1): GELU(approximate='none')\n",
       "          (2): Linear(in_features=2048, out_features=512, bias=True)\n",
       "        )\n",
       "        (reducer): Linear(in_features=1024, out_features=512, bias=True)\n",
       "      )\n",
       "      (6): BiMambaEncoder(\n",
       "        (mamba): Mamba2(\n",
       "          (in_proj): Linear(in_features=512, out_features=3088, bias=False)\n",
       "          (conv1d): Conv1d(2048, 2048, kernel_size=(4,), stride=(1,), padding=(3,), groups=2048)\n",
       "          (act): SiLU()\n",
       "          (norm): RMSNorm()\n",
       "          (out_proj): Linear(in_features=1024, out_features=512, bias=False)\n",
       "        )\n",
       "        (norm1): LayerNorm((512,), eps=1e-05, elementwise_affine=True)\n",
       "        (norm2): LayerNorm((512,), eps=1e-05, elementwise_affine=True)\n",
       "        (feed_forward): Sequential(\n",
       "          (0): Linear(in_features=512, out_features=2048, bias=True)\n",
       "          (1): GELU(approximate='none')\n",
       "          (2): Linear(in_features=2048, out_features=512, bias=True)\n",
       "        )\n",
       "        (reducer): Linear(in_features=1024, out_features=512, bias=True)\n",
       "      )\n",
       "      (7): BiMambaEncoder(\n",
       "        (mamba): Mamba2(\n",
       "          (in_proj): Linear(in_features=512, out_features=3088, bias=False)\n",
       "          (conv1d): Conv1d(2048, 2048, kernel_size=(4,), stride=(1,), padding=(3,), groups=2048)\n",
       "          (act): SiLU()\n",
       "          (norm): RMSNorm()\n",
       "          (out_proj): Linear(in_features=1024, out_features=512, bias=False)\n",
       "        )\n",
       "        (norm1): LayerNorm((512,), eps=1e-05, elementwise_affine=True)\n",
       "        (norm2): LayerNorm((512,), eps=1e-05, elementwise_affine=True)\n",
       "        (feed_forward): Sequential(\n",
       "          (0): Linear(in_features=512, out_features=2048, bias=True)\n",
       "          (1): GELU(approximate='none')\n",
       "          (2): Linear(in_features=2048, out_features=512, bias=True)\n",
       "        )\n",
       "        (reducer): Linear(in_features=1024, out_features=512, bias=True)\n",
       "      )\n",
       "    )\n",
       "  )\n",
       "  (decoder): Sequential(\n",
       "    (0): Linear(in_features=512, out_features=1, bias=True)\n",
       "    (1): Identity()\n",
       "  )\n",
       "  (train_accuracy): BinaryAccuracy()\n",
       "  (val_accuracy): BinaryAccuracy()\n",
       ")"
      ]
     },
     "execution_count": 271,
     "metadata": {},
     "output_type": "execute_result"
    }
   ],
   "source": [
    "model.to('cuda')"
   ]
  },
  {
   "cell_type": "code",
   "execution_count": 272,
   "id": "7546ed33-4ab6-4394-8850-bd0b32f6ce5e",
   "metadata": {},
   "outputs": [
    {
     "name": "stdout",
     "output_type": "stream",
     "text": [
      "18.3 ms ± 101 μs per loop (mean ± std. dev. of 7 runs, 100 loops each)\n"
     ]
    }
   ],
   "source": [
    "%timeit model(rna, dna)"
   ]
  },
  {
   "cell_type": "code",
   "execution_count": 273,
   "id": "b483911c-ff78-4827-ba1f-f6e8eb926fc2",
   "metadata": {},
   "outputs": [
    {
     "name": "stdout",
     "output_type": "stream",
     "text": [
      "{'chr1': 248956422, 'chr10': 133797422, 'chr11': 135086622, 'chr12': 133275309, 'chr13': 114364328, 'chr14': 107043718, 'chr15': 101991189, 'chr16': 90338345, 'chr17': 83257441, 'chr18': 80373285, 'chr19': 58617616, 'chr2': 242193529, 'chr20': 64444167, 'chr21': 46709983, 'chr22': 50818468, 'chr3': 198295559, 'chr4': 190214555, 'chr5': 181538259, 'chr6': 170805979, 'chr7': 159345973, 'chr8': 145138636, 'chr9': 138394717, 'chrX': 156040895}\n"
     ]
    }
   ],
   "source": [
    "change_seq_path = 'files/datasets/CHANGEseq/include_on_targets/CHANGEseq_CR_Lazzarotto_2020_dataset.csv'\n",
    "fasta_path = '../../hg38/hg38.ml.fa'\n",
    "\n",
    "tot_len = 512\n",
    "datamodule = ChangeSeqDataModule(change_seq_path, fasta_path, dna_sequence_length=tot_len-24*2-1, task='classification')\n",
    "\n",
    "model_name = \"kuleshov-group/caduceus-ph_seqlen-131k_d_model-256_n_layer-16\"\n",
    "tokenizer = AutoTokenizer.from_pretrained(model_name, trust_remote_code=True)\n",
    "model = ChangeSeqModel(tokenizer, 8, 512, 512, 4, 2, bidirectional_method='concat', pooling='mean', task='classification')"
   ]
  },
  {
   "cell_type": "code",
   "execution_count": 274,
   "id": "427287ff-4a4a-4172-85d4-ab5dbbe86f79",
   "metadata": {},
   "outputs": [
    {
     "name": "stderr",
     "output_type": "stream",
     "text": [
      "GPU available: True (cuda), used: True\n",
      "TPU available: False, using: 0 TPU cores\n",
      "HPU available: False, using: 0 HPUs\n"
     ]
    }
   ],
   "source": [
    "from pytorch_lightning import Trainer\n",
    "trainer = Trainer(\n",
    "    max_epochs=10, \n",
    "    accelerator='gpu',\n",
    ")"
   ]
  },
  {
   "cell_type": "code",
   "execution_count": null,
   "id": "286f1461-bcde-43bd-b7ce-577cc4aa4672",
   "metadata": {},
   "outputs": [
    {
     "name": "stderr",
     "output_type": "stream",
     "text": [
      "LOCAL_RANK: 0 - CUDA_VISIBLE_DEVICES: [0]\n",
      "\n",
      "   | Name            | Type                   | Params | Mode \n",
      "--------------------------------------------------------------------\n",
      "0  | criterion       | BCELoss                | 0      | train\n",
      "1  | train_auprc     | BinaryAveragePrecision | 0      | train\n",
      "2  | val_auprc       | BinaryAveragePrecision | 0      | train\n",
      "3  | test_auprc      | BinaryAveragePrecision | 0      | train\n",
      "4  | train_auc       | BinaryAUROC            | 0      | train\n",
      "5  | val_auc         | BinaryAUROC            | 0      | train\n",
      "6  | test_auc        | BinaryAUROC            | 0      | train\n",
      "7  | sgrna_embedding | Embedding              | 6.1 K  | train\n",
      "8  | dna_embedding   | Embedding              | 6.1 K  | train\n",
      "9  | backbone        | BiMambaStack           | 37.9 M | train\n",
      "10 | decoder         | Sequential             | 513    | train\n",
      "11 | train_accuracy  | BinaryAccuracy         | 0      | train\n",
      "12 | val_accuracy    | BinaryAccuracy         | 0      | train\n",
      "--------------------------------------------------------------------\n",
      "38.0 M    Trainable params\n",
      "0         Non-trainable params\n",
      "38.0 M    Total params\n",
      "151.834   Total estimated model params size (MB)\n",
      "128       Modules in train mode\n",
      "0         Modules in eval mode\n"
     ]
    },
    {
     "name": "stdout",
     "output_type": "stream",
     "text": [
      "Sanity Checking: |          | 0/? [00:00<?, ?it/s]"
     ]
    },
    {
     "name": "stderr",
     "output_type": "stream",
     "text": [
      "/home/ubuntu/callum-ca/miniconda3/envs/CRISPR-Bulge/lib/python3.10/site-packages/pytorch_lightning/trainer/connectors/data_connector.py:475: Your `val_dataloader`'s sampler has shuffling enabled, it is strongly recommended that you turn shuffling off for val/test dataloaders.\n",
      "/home/ubuntu/callum-ca/miniconda3/envs/CRISPR-Bulge/lib/python3.10/site-packages/pytorch_lightning/trainer/connectors/data_connector.py:424: The 'val_dataloader' does not have many workers which may be a bottleneck. Consider increasing the value of the `num_workers` argument` to `num_workers=29` in the `DataLoader` to improve performance.\n"
     ]
    },
    {
     "name": "stdout",
     "output_type": "stream",
     "text": [
      "                                                                           "
     ]
    },
    {
     "name": "stderr",
     "output_type": "stream",
     "text": [
      "/home/ubuntu/callum-ca/miniconda3/envs/CRISPR-Bulge/lib/python3.10/site-packages/pytorch_lightning/trainer/connectors/data_connector.py:424: The 'train_dataloader' does not have many workers which may be a bottleneck. Consider increasing the value of the `num_workers` argument` to `num_workers=29` in the `DataLoader` to improve performance.\n"
     ]
    },
    {
     "name": "stdout",
     "output_type": "stream",
     "text": [
      "Epoch 0:   0%|          | 11/115552 [01:31<268:04:59,  0.12it/s, v_num=13, train_loss_step=0.218]"
     ]
    },
    {
     "name": "stderr",
     "output_type": "stream",
     "text": [
      "/home/ubuntu/callum-ca/miniconda3/envs/CRISPR-Bulge/lib/python3.10/site-packages/torchmetrics/utilities/prints.py:43: UserWarning: No positive samples found in target, recall is undefined. Setting recall to one for all thresholds.\n",
      "  warnings.warn(*args, **kwargs)  # noqa: B028\n",
      "/home/ubuntu/callum-ca/miniconda3/envs/CRISPR-Bulge/lib/python3.10/site-packages/torchmetrics/utilities/prints.py:43: UserWarning: No positive samples in targets, true positive value should be meaningless. Returning zero tensor in true positive score\n",
      "  warnings.warn(*args, **kwargs)  # noqa: B028\n"
     ]
    },
    {
     "name": "stdout",
     "output_type": "stream",
     "text": [
      "Epoch 0:   0%|          | 17/115552 [01:37<184:04:04,  0.17it/s, v_num=13, train_loss_step=0.151] "
     ]
    },
    {
     "name": "stderr",
     "output_type": "stream",
     "text": [
      "/home/ubuntu/callum-ca/miniconda3/envs/CRISPR-Bulge/lib/python3.10/site-packages/torchmetrics/utilities/prints.py:43: UserWarning: No positive samples found in target, recall is undefined. Setting recall to one for all thresholds.\n",
      "  warnings.warn(*args, **kwargs)  # noqa: B028\n",
      "/home/ubuntu/callum-ca/miniconda3/envs/CRISPR-Bulge/lib/python3.10/site-packages/torchmetrics/utilities/prints.py:43: UserWarning: No positive samples in targets, true positive value should be meaningless. Returning zero tensor in true positive score\n",
      "  warnings.warn(*args, **kwargs)  # noqa: B028\n"
     ]
    },
    {
     "name": "stdout",
     "output_type": "stream",
     "text": [
      "Epoch 0:   0%|          | 19/115552 [01:39<167:52:32,  0.19it/s, v_num=13, train_loss_step=0.403]"
     ]
    },
    {
     "name": "stderr",
     "output_type": "stream",
     "text": [
      "/home/ubuntu/callum-ca/miniconda3/envs/CRISPR-Bulge/lib/python3.10/site-packages/torchmetrics/utilities/prints.py:43: UserWarning: No positive samples found in target, recall is undefined. Setting recall to one for all thresholds.\n",
      "  warnings.warn(*args, **kwargs)  # noqa: B028\n",
      "/home/ubuntu/callum-ca/miniconda3/envs/CRISPR-Bulge/lib/python3.10/site-packages/torchmetrics/utilities/prints.py:43: UserWarning: No positive samples in targets, true positive value should be meaningless. Returning zero tensor in true positive score\n",
      "  warnings.warn(*args, **kwargs)  # noqa: B028\n"
     ]
    },
    {
     "name": "stdout",
     "output_type": "stream",
     "text": [
      "Epoch 0:   0%|          | 20/115552 [01:40<160:57:03,  0.20it/s, v_num=13, train_loss_step=0.0367]"
     ]
    },
    {
     "name": "stderr",
     "output_type": "stream",
     "text": [
      "/home/ubuntu/callum-ca/miniconda3/envs/CRISPR-Bulge/lib/python3.10/site-packages/torchmetrics/utilities/prints.py:43: UserWarning: No positive samples found in target, recall is undefined. Setting recall to one for all thresholds.\n",
      "  warnings.warn(*args, **kwargs)  # noqa: B028\n",
      "/home/ubuntu/callum-ca/miniconda3/envs/CRISPR-Bulge/lib/python3.10/site-packages/torchmetrics/utilities/prints.py:43: UserWarning: No positive samples in targets, true positive value should be meaningless. Returning zero tensor in true positive score\n",
      "  warnings.warn(*args, **kwargs)  # noqa: B028\n"
     ]
    },
    {
     "name": "stdout",
     "output_type": "stream",
     "text": [
      "Epoch 0:   0%|          | 26/115552 [01:45<130:35:21,  0.25it/s, v_num=13, train_loss_step=0.244] "
     ]
    },
    {
     "name": "stderr",
     "output_type": "stream",
     "text": [
      "/home/ubuntu/callum-ca/miniconda3/envs/CRISPR-Bulge/lib/python3.10/site-packages/torchmetrics/utilities/prints.py:43: UserWarning: No positive samples found in target, recall is undefined. Setting recall to one for all thresholds.\n",
      "  warnings.warn(*args, **kwargs)  # noqa: B028\n",
      "/home/ubuntu/callum-ca/miniconda3/envs/CRISPR-Bulge/lib/python3.10/site-packages/torchmetrics/utilities/prints.py:43: UserWarning: No positive samples in targets, true positive value should be meaningless. Returning zero tensor in true positive score\n",
      "  warnings.warn(*args, **kwargs)  # noqa: B028\n"
     ]
    },
    {
     "name": "stdout",
     "output_type": "stream",
     "text": [
      "Epoch 0:   0%|          | 27/115552 [01:46<126:51:06,  0.25it/s, v_num=13, train_loss_step=0.0283]"
     ]
    },
    {
     "name": "stderr",
     "output_type": "stream",
     "text": [
      "/home/ubuntu/callum-ca/miniconda3/envs/CRISPR-Bulge/lib/python3.10/site-packages/torchmetrics/utilities/prints.py:43: UserWarning: No positive samples found in target, recall is undefined. Setting recall to one for all thresholds.\n",
      "  warnings.warn(*args, **kwargs)  # noqa: B028\n",
      "/home/ubuntu/callum-ca/miniconda3/envs/CRISPR-Bulge/lib/python3.10/site-packages/torchmetrics/utilities/prints.py:43: UserWarning: No positive samples in targets, true positive value should be meaningless. Returning zero tensor in true positive score\n",
      "  warnings.warn(*args, **kwargs)  # noqa: B028\n"
     ]
    },
    {
     "name": "stdout",
     "output_type": "stream",
     "text": [
      "Epoch 0:   0%|          | 32/115552 [01:51<111:43:42,  0.29it/s, v_num=13, train_loss_step=0.138] "
     ]
    },
    {
     "name": "stderr",
     "output_type": "stream",
     "text": [
      "/home/ubuntu/callum-ca/miniconda3/envs/CRISPR-Bulge/lib/python3.10/site-packages/torchmetrics/utilities/prints.py:43: UserWarning: No positive samples found in target, recall is undefined. Setting recall to one for all thresholds.\n",
      "  warnings.warn(*args, **kwargs)  # noqa: B028\n",
      "/home/ubuntu/callum-ca/miniconda3/envs/CRISPR-Bulge/lib/python3.10/site-packages/torchmetrics/utilities/prints.py:43: UserWarning: No positive samples in targets, true positive value should be meaningless. Returning zero tensor in true positive score\n",
      "  warnings.warn(*args, **kwargs)  # noqa: B028\n"
     ]
    },
    {
     "name": "stdout",
     "output_type": "stream",
     "text": [
      "Epoch 0:   0%|          | 36/115552 [01:55<102:32:25,  0.31it/s, v_num=13, train_loss_step=0.135] "
     ]
    },
    {
     "name": "stderr",
     "output_type": "stream",
     "text": [
      "/home/ubuntu/callum-ca/miniconda3/envs/CRISPR-Bulge/lib/python3.10/site-packages/torchmetrics/utilities/prints.py:43: UserWarning: No positive samples found in target, recall is undefined. Setting recall to one for all thresholds.\n",
      "  warnings.warn(*args, **kwargs)  # noqa: B028\n",
      "/home/ubuntu/callum-ca/miniconda3/envs/CRISPR-Bulge/lib/python3.10/site-packages/torchmetrics/utilities/prints.py:43: UserWarning: No positive samples in targets, true positive value should be meaningless. Returning zero tensor in true positive score\n",
      "  warnings.warn(*args, **kwargs)  # noqa: B028\n"
     ]
    },
    {
     "name": "stdout",
     "output_type": "stream",
     "text": [
      "Epoch 0:   0%|          | 41/115552 [01:59<93:41:37,  0.34it/s, v_num=13, train_loss_step=0.256]  "
     ]
    },
    {
     "name": "stderr",
     "output_type": "stream",
     "text": [
      "/home/ubuntu/callum-ca/miniconda3/envs/CRISPR-Bulge/lib/python3.10/site-packages/torchmetrics/utilities/prints.py:43: UserWarning: No positive samples found in target, recall is undefined. Setting recall to one for all thresholds.\n",
      "  warnings.warn(*args, **kwargs)  # noqa: B028\n",
      "/home/ubuntu/callum-ca/miniconda3/envs/CRISPR-Bulge/lib/python3.10/site-packages/torchmetrics/utilities/prints.py:43: UserWarning: No positive samples in targets, true positive value should be meaningless. Returning zero tensor in true positive score\n",
      "  warnings.warn(*args, **kwargs)  # noqa: B028\n"
     ]
    },
    {
     "name": "stdout",
     "output_type": "stream",
     "text": [
      "Epoch 0:   0%|          | 46/115552 [02:04<86:40:32,  0.37it/s, v_num=13, train_loss_step=0.274] "
     ]
    },
    {
     "name": "stderr",
     "output_type": "stream",
     "text": [
      "/home/ubuntu/callum-ca/miniconda3/envs/CRISPR-Bulge/lib/python3.10/site-packages/torchmetrics/utilities/prints.py:43: UserWarning: No positive samples found in target, recall is undefined. Setting recall to one for all thresholds.\n",
      "  warnings.warn(*args, **kwargs)  # noqa: B028\n",
      "/home/ubuntu/callum-ca/miniconda3/envs/CRISPR-Bulge/lib/python3.10/site-packages/torchmetrics/utilities/prints.py:43: UserWarning: No positive samples in targets, true positive value should be meaningless. Returning zero tensor in true positive score\n",
      "  warnings.warn(*args, **kwargs)  # noqa: B028\n"
     ]
    },
    {
     "name": "stdout",
     "output_type": "stream",
     "text": [
      "Epoch 0:   0%|          | 50/115552 [02:07<82:02:10,  0.39it/s, v_num=13, train_loss_step=0.156]"
     ]
    },
    {
     "name": "stderr",
     "output_type": "stream",
     "text": [
      "/home/ubuntu/callum-ca/miniconda3/envs/CRISPR-Bulge/lib/python3.10/site-packages/torchmetrics/utilities/prints.py:43: UserWarning: No positive samples found in target, recall is undefined. Setting recall to one for all thresholds.\n",
      "  warnings.warn(*args, **kwargs)  # noqa: B028\n",
      "/home/ubuntu/callum-ca/miniconda3/envs/CRISPR-Bulge/lib/python3.10/site-packages/torchmetrics/utilities/prints.py:43: UserWarning: No positive samples in targets, true positive value should be meaningless. Returning zero tensor in true positive score\n",
      "  warnings.warn(*args, **kwargs)  # noqa: B028\n"
     ]
    },
    {
     "name": "stdout",
     "output_type": "stream",
     "text": [
      "Epoch 0:   0%|          | 52/115552 [02:09<79:58:41,  0.40it/s, v_num=13, train_loss_step=0.146] "
     ]
    },
    {
     "name": "stderr",
     "output_type": "stream",
     "text": [
      "/home/ubuntu/callum-ca/miniconda3/envs/CRISPR-Bulge/lib/python3.10/site-packages/torchmetrics/utilities/prints.py:43: UserWarning: No positive samples found in target, recall is undefined. Setting recall to one for all thresholds.\n",
      "  warnings.warn(*args, **kwargs)  # noqa: B028\n",
      "/home/ubuntu/callum-ca/miniconda3/envs/CRISPR-Bulge/lib/python3.10/site-packages/torchmetrics/utilities/prints.py:43: UserWarning: No positive samples in targets, true positive value should be meaningless. Returning zero tensor in true positive score\n",
      "  warnings.warn(*args, **kwargs)  # noqa: B028\n"
     ]
    },
    {
     "name": "stdout",
     "output_type": "stream",
     "text": [
      "Epoch 0:   0%|          | 53/115552 [02:10<79:01:26,  0.41it/s, v_num=13, train_loss_step=0.0122]"
     ]
    },
    {
     "name": "stderr",
     "output_type": "stream",
     "text": [
      "/home/ubuntu/callum-ca/miniconda3/envs/CRISPR-Bulge/lib/python3.10/site-packages/torchmetrics/utilities/prints.py:43: UserWarning: No positive samples found in target, recall is undefined. Setting recall to one for all thresholds.\n",
      "  warnings.warn(*args, **kwargs)  # noqa: B028\n",
      "/home/ubuntu/callum-ca/miniconda3/envs/CRISPR-Bulge/lib/python3.10/site-packages/torchmetrics/utilities/prints.py:43: UserWarning: No positive samples in targets, true positive value should be meaningless. Returning zero tensor in true positive score\n",
      "  warnings.warn(*args, **kwargs)  # noqa: B028\n"
     ]
    },
    {
     "name": "stdout",
     "output_type": "stream",
     "text": [
      "Epoch 0:   0%|          | 54/115552 [02:11<78:05:43,  0.41it/s, v_num=13, train_loss_step=0.0135]"
     ]
    },
    {
     "name": "stderr",
     "output_type": "stream",
     "text": [
      "/home/ubuntu/callum-ca/miniconda3/envs/CRISPR-Bulge/lib/python3.10/site-packages/torchmetrics/utilities/prints.py:43: UserWarning: No positive samples found in target, recall is undefined. Setting recall to one for all thresholds.\n",
      "  warnings.warn(*args, **kwargs)  # noqa: B028\n",
      "/home/ubuntu/callum-ca/miniconda3/envs/CRISPR-Bulge/lib/python3.10/site-packages/torchmetrics/utilities/prints.py:43: UserWarning: No positive samples in targets, true positive value should be meaningless. Returning zero tensor in true positive score\n",
      "  warnings.warn(*args, **kwargs)  # noqa: B028\n"
     ]
    },
    {
     "name": "stdout",
     "output_type": "stream",
     "text": [
      "Epoch 0:   0%|          | 57/115552 [02:14<75:29:27,  0.42it/s, v_num=13, train_loss_step=0.158]  "
     ]
    },
    {
     "name": "stderr",
     "output_type": "stream",
     "text": [
      "/home/ubuntu/callum-ca/miniconda3/envs/CRISPR-Bulge/lib/python3.10/site-packages/torchmetrics/utilities/prints.py:43: UserWarning: No positive samples found in target, recall is undefined. Setting recall to one for all thresholds.\n",
      "  warnings.warn(*args, **kwargs)  # noqa: B028\n",
      "/home/ubuntu/callum-ca/miniconda3/envs/CRISPR-Bulge/lib/python3.10/site-packages/torchmetrics/utilities/prints.py:43: UserWarning: No positive samples in targets, true positive value should be meaningless. Returning zero tensor in true positive score\n",
      "  warnings.warn(*args, **kwargs)  # noqa: B028\n"
     ]
    },
    {
     "name": "stdout",
     "output_type": "stream",
     "text": [
      "Epoch 0:   0%|          | 59/115552 [02:15<73:54:37,  0.43it/s, v_num=13, train_loss_step=0.151]"
     ]
    },
    {
     "name": "stderr",
     "output_type": "stream",
     "text": [
      "/home/ubuntu/callum-ca/miniconda3/envs/CRISPR-Bulge/lib/python3.10/site-packages/torchmetrics/utilities/prints.py:43: UserWarning: No positive samples found in target, recall is undefined. Setting recall to one for all thresholds.\n",
      "  warnings.warn(*args, **kwargs)  # noqa: B028\n",
      "/home/ubuntu/callum-ca/miniconda3/envs/CRISPR-Bulge/lib/python3.10/site-packages/torchmetrics/utilities/prints.py:43: UserWarning: No positive samples in targets, true positive value should be meaningless. Returning zero tensor in true positive score\n",
      "  warnings.warn(*args, **kwargs)  # noqa: B028\n"
     ]
    },
    {
     "name": "stdout",
     "output_type": "stream",
     "text": [
      "Epoch 0:   0%|          | 64/115552 [02:20<70:19:51,  0.46it/s, v_num=13, train_loss_step=0.125] "
     ]
    },
    {
     "name": "stderr",
     "output_type": "stream",
     "text": [
      "/home/ubuntu/callum-ca/miniconda3/envs/CRISPR-Bulge/lib/python3.10/site-packages/torchmetrics/utilities/prints.py:43: UserWarning: No positive samples found in target, recall is undefined. Setting recall to one for all thresholds.\n",
      "  warnings.warn(*args, **kwargs)  # noqa: B028\n",
      "/home/ubuntu/callum-ca/miniconda3/envs/CRISPR-Bulge/lib/python3.10/site-packages/torchmetrics/utilities/prints.py:43: UserWarning: No positive samples in targets, true positive value should be meaningless. Returning zero tensor in true positive score\n",
      "  warnings.warn(*args, **kwargs)  # noqa: B028\n"
     ]
    },
    {
     "name": "stdout",
     "output_type": "stream",
     "text": [
      "Epoch 0:   0%|          | 66/115552 [02:22<69:04:42,  0.46it/s, v_num=13, train_loss_step=0.139] "
     ]
    },
    {
     "name": "stderr",
     "output_type": "stream",
     "text": [
      "/home/ubuntu/callum-ca/miniconda3/envs/CRISPR-Bulge/lib/python3.10/site-packages/torchmetrics/utilities/prints.py:43: UserWarning: No positive samples found in target, recall is undefined. Setting recall to one for all thresholds.\n",
      "  warnings.warn(*args, **kwargs)  # noqa: B028\n",
      "/home/ubuntu/callum-ca/miniconda3/envs/CRISPR-Bulge/lib/python3.10/site-packages/torchmetrics/utilities/prints.py:43: UserWarning: No positive samples in targets, true positive value should be meaningless. Returning zero tensor in true positive score\n",
      "  warnings.warn(*args, **kwargs)  # noqa: B028\n"
     ]
    },
    {
     "name": "stdout",
     "output_type": "stream",
     "text": [
      "Epoch 0:   0%|          | 69/115552 [02:24<67:19:51,  0.48it/s, v_num=13, train_loss_step=0.255] "
     ]
    },
    {
     "name": "stderr",
     "output_type": "stream",
     "text": [
      "/home/ubuntu/callum-ca/miniconda3/envs/CRISPR-Bulge/lib/python3.10/site-packages/torchmetrics/utilities/prints.py:43: UserWarning: No positive samples found in target, recall is undefined. Setting recall to one for all thresholds.\n",
      "  warnings.warn(*args, **kwargs)  # noqa: B028\n",
      "/home/ubuntu/callum-ca/miniconda3/envs/CRISPR-Bulge/lib/python3.10/site-packages/torchmetrics/utilities/prints.py:43: UserWarning: No positive samples in targets, true positive value should be meaningless. Returning zero tensor in true positive score\n",
      "  warnings.warn(*args, **kwargs)  # noqa: B028\n"
     ]
    },
    {
     "name": "stdout",
     "output_type": "stream",
     "text": [
      "Epoch 0:   0%|          | 73/115552 [02:28<65:11:38,  0.49it/s, v_num=13, train_loss_step=0.147] "
     ]
    },
    {
     "name": "stderr",
     "output_type": "stream",
     "text": [
      "/home/ubuntu/callum-ca/miniconda3/envs/CRISPR-Bulge/lib/python3.10/site-packages/torchmetrics/utilities/prints.py:43: UserWarning: No positive samples found in target, recall is undefined. Setting recall to one for all thresholds.\n",
      "  warnings.warn(*args, **kwargs)  # noqa: B028\n",
      "/home/ubuntu/callum-ca/miniconda3/envs/CRISPR-Bulge/lib/python3.10/site-packages/torchmetrics/utilities/prints.py:43: UserWarning: No positive samples in targets, true positive value should be meaningless. Returning zero tensor in true positive score\n",
      "  warnings.warn(*args, **kwargs)  # noqa: B028\n"
     ]
    },
    {
     "name": "stdout",
     "output_type": "stream",
     "text": [
      "Epoch 0:   0%|          | 76/115552 [02:31<63:44:43,  0.50it/s, v_num=13, train_loss_step=0.132] "
     ]
    },
    {
     "name": "stderr",
     "output_type": "stream",
     "text": [
      "/home/ubuntu/callum-ca/miniconda3/envs/CRISPR-Bulge/lib/python3.10/site-packages/torchmetrics/utilities/prints.py:43: UserWarning: No positive samples found in target, recall is undefined. Setting recall to one for all thresholds.\n",
      "  warnings.warn(*args, **kwargs)  # noqa: B028\n",
      "/home/ubuntu/callum-ca/miniconda3/envs/CRISPR-Bulge/lib/python3.10/site-packages/torchmetrics/utilities/prints.py:43: UserWarning: No positive samples in targets, true positive value should be meaningless. Returning zero tensor in true positive score\n",
      "  warnings.warn(*args, **kwargs)  # noqa: B028\n"
     ]
    },
    {
     "name": "stdout",
     "output_type": "stream",
     "text": [
      "Epoch 0:   0%|          | 77/115552 [02:31<63:16:23,  0.51it/s, v_num=13, train_loss_step=0.0412]"
     ]
    },
    {
     "name": "stderr",
     "output_type": "stream",
     "text": [
      "/home/ubuntu/callum-ca/miniconda3/envs/CRISPR-Bulge/lib/python3.10/site-packages/torchmetrics/utilities/prints.py:43: UserWarning: No positive samples found in target, recall is undefined. Setting recall to one for all thresholds.\n",
      "  warnings.warn(*args, **kwargs)  # noqa: B028\n",
      "/home/ubuntu/callum-ca/miniconda3/envs/CRISPR-Bulge/lib/python3.10/site-packages/torchmetrics/utilities/prints.py:43: UserWarning: No positive samples in targets, true positive value should be meaningless. Returning zero tensor in true positive score\n",
      "  warnings.warn(*args, **kwargs)  # noqa: B028\n"
     ]
    },
    {
     "name": "stdout",
     "output_type": "stream",
     "text": [
      "Epoch 0:   0%|          | 83/115552 [02:37<60:44:39,  0.53it/s, v_num=13, train_loss_step=0.134] "
     ]
    },
    {
     "name": "stderr",
     "output_type": "stream",
     "text": [
      "/home/ubuntu/callum-ca/miniconda3/envs/CRISPR-Bulge/lib/python3.10/site-packages/torchmetrics/utilities/prints.py:43: UserWarning: No positive samples found in target, recall is undefined. Setting recall to one for all thresholds.\n",
      "  warnings.warn(*args, **kwargs)  # noqa: B028\n",
      "/home/ubuntu/callum-ca/miniconda3/envs/CRISPR-Bulge/lib/python3.10/site-packages/torchmetrics/utilities/prints.py:43: UserWarning: No positive samples in targets, true positive value should be meaningless. Returning zero tensor in true positive score\n",
      "  warnings.warn(*args, **kwargs)  # noqa: B028\n"
     ]
    },
    {
     "name": "stdout",
     "output_type": "stream",
     "text": [
      "Epoch 0:   0%|          | 85/115552 [02:39<60:01:21,  0.53it/s, v_num=13, train_loss_step=0.123] "
     ]
    },
    {
     "name": "stderr",
     "output_type": "stream",
     "text": [
      "/home/ubuntu/callum-ca/miniconda3/envs/CRISPR-Bulge/lib/python3.10/site-packages/torchmetrics/utilities/prints.py:43: UserWarning: No positive samples found in target, recall is undefined. Setting recall to one for all thresholds.\n",
      "  warnings.warn(*args, **kwargs)  # noqa: B028\n",
      "/home/ubuntu/callum-ca/miniconda3/envs/CRISPR-Bulge/lib/python3.10/site-packages/torchmetrics/utilities/prints.py:43: UserWarning: No positive samples in targets, true positive value should be meaningless. Returning zero tensor in true positive score\n",
      "  warnings.warn(*args, **kwargs)  # noqa: B028\n"
     ]
    },
    {
     "name": "stdout",
     "output_type": "stream",
     "text": [
      "Epoch 0:   0%|          | 88/115552 [02:41<58:55:10,  0.54it/s, v_num=13, train_loss_step=0.122] "
     ]
    },
    {
     "name": "stderr",
     "output_type": "stream",
     "text": [
      "/home/ubuntu/callum-ca/miniconda3/envs/CRISPR-Bulge/lib/python3.10/site-packages/torchmetrics/utilities/prints.py:43: UserWarning: No positive samples found in target, recall is undefined. Setting recall to one for all thresholds.\n",
      "  warnings.warn(*args, **kwargs)  # noqa: B028\n",
      "/home/ubuntu/callum-ca/miniconda3/envs/CRISPR-Bulge/lib/python3.10/site-packages/torchmetrics/utilities/prints.py:43: UserWarning: No positive samples in targets, true positive value should be meaningless. Returning zero tensor in true positive score\n",
      "  warnings.warn(*args, **kwargs)  # noqa: B028\n"
     ]
    },
    {
     "name": "stdout",
     "output_type": "stream",
     "text": [
      "Epoch 0:   0%|          | 91/115552 [02:44<57:55:02,  0.55it/s, v_num=13, train_loss_step=0.125] "
     ]
    },
    {
     "name": "stderr",
     "output_type": "stream",
     "text": [
      "/home/ubuntu/callum-ca/miniconda3/envs/CRISPR-Bulge/lib/python3.10/site-packages/torchmetrics/utilities/prints.py:43: UserWarning: No positive samples found in target, recall is undefined. Setting recall to one for all thresholds.\n",
      "  warnings.warn(*args, **kwargs)  # noqa: B028\n",
      "/home/ubuntu/callum-ca/miniconda3/envs/CRISPR-Bulge/lib/python3.10/site-packages/torchmetrics/utilities/prints.py:43: UserWarning: No positive samples in targets, true positive value should be meaningless. Returning zero tensor in true positive score\n",
      "  warnings.warn(*args, **kwargs)  # noqa: B028\n"
     ]
    },
    {
     "name": "stdout",
     "output_type": "stream",
     "text": [
      "Epoch 0:   0%|          | 93/115552 [02:46<57:16:09,  0.56it/s, v_num=13, train_loss_step=0.486] "
     ]
    },
    {
     "name": "stderr",
     "output_type": "stream",
     "text": [
      "/home/ubuntu/callum-ca/miniconda3/envs/CRISPR-Bulge/lib/python3.10/site-packages/torchmetrics/utilities/prints.py:43: UserWarning: No positive samples found in target, recall is undefined. Setting recall to one for all thresholds.\n",
      "  warnings.warn(*args, **kwargs)  # noqa: B028\n",
      "/home/ubuntu/callum-ca/miniconda3/envs/CRISPR-Bulge/lib/python3.10/site-packages/torchmetrics/utilities/prints.py:43: UserWarning: No positive samples in targets, true positive value should be meaningless. Returning zero tensor in true positive score\n",
      "  warnings.warn(*args, **kwargs)  # noqa: B028\n"
     ]
    },
    {
     "name": "stdout",
     "output_type": "stream",
     "text": [
      "Epoch 0:   0%|          | 94/115552 [02:46<56:57:32,  0.56it/s, v_num=13, train_loss_step=0.0454]"
     ]
    },
    {
     "name": "stderr",
     "output_type": "stream",
     "text": [
      "/home/ubuntu/callum-ca/miniconda3/envs/CRISPR-Bulge/lib/python3.10/site-packages/torchmetrics/utilities/prints.py:43: UserWarning: No positive samples found in target, recall is undefined. Setting recall to one for all thresholds.\n",
      "  warnings.warn(*args, **kwargs)  # noqa: B028\n",
      "/home/ubuntu/callum-ca/miniconda3/envs/CRISPR-Bulge/lib/python3.10/site-packages/torchmetrics/utilities/prints.py:43: UserWarning: No positive samples in targets, true positive value should be meaningless. Returning zero tensor in true positive score\n",
      "  warnings.warn(*args, **kwargs)  # noqa: B028\n"
     ]
    },
    {
     "name": "stdout",
     "output_type": "stream",
     "text": [
      "Epoch 0:   0%|          | 97/115552 [02:49<56:04:13,  0.57it/s, v_num=13, train_loss_step=0.134] "
     ]
    },
    {
     "name": "stderr",
     "output_type": "stream",
     "text": [
      "/home/ubuntu/callum-ca/miniconda3/envs/CRISPR-Bulge/lib/python3.10/site-packages/torchmetrics/utilities/prints.py:43: UserWarning: No positive samples found in target, recall is undefined. Setting recall to one for all thresholds.\n",
      "  warnings.warn(*args, **kwargs)  # noqa: B028\n",
      "/home/ubuntu/callum-ca/miniconda3/envs/CRISPR-Bulge/lib/python3.10/site-packages/torchmetrics/utilities/prints.py:43: UserWarning: No positive samples in targets, true positive value should be meaningless. Returning zero tensor in true positive score\n",
      "  warnings.warn(*args, **kwargs)  # noqa: B028\n"
     ]
    },
    {
     "name": "stdout",
     "output_type": "stream",
     "text": [
      "Epoch 0:   0%|          | 101/115552 [02:53<54:57:41,  0.58it/s, v_num=13, train_loss_step=0.134]"
     ]
    },
    {
     "name": "stderr",
     "output_type": "stream",
     "text": [
      "/home/ubuntu/callum-ca/miniconda3/envs/CRISPR-Bulge/lib/python3.10/site-packages/torchmetrics/utilities/prints.py:43: UserWarning: No positive samples found in target, recall is undefined. Setting recall to one for all thresholds.\n",
      "  warnings.warn(*args, **kwargs)  # noqa: B028\n",
      "/home/ubuntu/callum-ca/miniconda3/envs/CRISPR-Bulge/lib/python3.10/site-packages/torchmetrics/utilities/prints.py:43: UserWarning: No positive samples in targets, true positive value should be meaningless. Returning zero tensor in true positive score\n",
      "  warnings.warn(*args, **kwargs)  # noqa: B028\n"
     ]
    },
    {
     "name": "stdout",
     "output_type": "stream",
     "text": [
      "Epoch 0:   0%|          | 102/115552 [02:53<54:41:43,  0.59it/s, v_num=13, train_loss_step=0.0541]"
     ]
    },
    {
     "name": "stderr",
     "output_type": "stream",
     "text": [
      "/home/ubuntu/callum-ca/miniconda3/envs/CRISPR-Bulge/lib/python3.10/site-packages/torchmetrics/utilities/prints.py:43: UserWarning: No positive samples found in target, recall is undefined. Setting recall to one for all thresholds.\n",
      "  warnings.warn(*args, **kwargs)  # noqa: B028\n",
      "/home/ubuntu/callum-ca/miniconda3/envs/CRISPR-Bulge/lib/python3.10/site-packages/torchmetrics/utilities/prints.py:43: UserWarning: No positive samples in targets, true positive value should be meaningless. Returning zero tensor in true positive score\n",
      "  warnings.warn(*args, **kwargs)  # noqa: B028\n"
     ]
    },
    {
     "name": "stdout",
     "output_type": "stream",
     "text": [
      "Epoch 0:   0%|          | 105/115552 [02:56<53:56:57,  0.59it/s, v_num=13, train_loss_step=0.138] "
     ]
    },
    {
     "name": "stderr",
     "output_type": "stream",
     "text": [
      "/home/ubuntu/callum-ca/miniconda3/envs/CRISPR-Bulge/lib/python3.10/site-packages/torchmetrics/utilities/prints.py:43: UserWarning: No positive samples found in target, recall is undefined. Setting recall to one for all thresholds.\n",
      "  warnings.warn(*args, **kwargs)  # noqa: B028\n",
      "/home/ubuntu/callum-ca/miniconda3/envs/CRISPR-Bulge/lib/python3.10/site-packages/torchmetrics/utilities/prints.py:43: UserWarning: No positive samples in targets, true positive value should be meaningless. Returning zero tensor in true positive score\n",
      "  warnings.warn(*args, **kwargs)  # noqa: B028\n"
     ]
    },
    {
     "name": "stdout",
     "output_type": "stream",
     "text": [
      "Epoch 0:   0%|          | 109/115552 [03:00<53:00:45,  0.60it/s, v_num=13, train_loss_step=0.148] "
     ]
    },
    {
     "name": "stderr",
     "output_type": "stream",
     "text": [
      "/home/ubuntu/callum-ca/miniconda3/envs/CRISPR-Bulge/lib/python3.10/site-packages/torchmetrics/utilities/prints.py:43: UserWarning: No positive samples found in target, recall is undefined. Setting recall to one for all thresholds.\n",
      "  warnings.warn(*args, **kwargs)  # noqa: B028\n",
      "/home/ubuntu/callum-ca/miniconda3/envs/CRISPR-Bulge/lib/python3.10/site-packages/torchmetrics/utilities/prints.py:43: UserWarning: No positive samples in targets, true positive value should be meaningless. Returning zero tensor in true positive score\n",
      "  warnings.warn(*args, **kwargs)  # noqa: B028\n"
     ]
    },
    {
     "name": "stdout",
     "output_type": "stream",
     "text": [
      "Epoch 0:   0%|          | 110/115552 [03:01<52:48:28,  0.61it/s, v_num=13, train_loss_step=0.0289]"
     ]
    },
    {
     "name": "stderr",
     "output_type": "stream",
     "text": [
      "/home/ubuntu/callum-ca/miniconda3/envs/CRISPR-Bulge/lib/python3.10/site-packages/torchmetrics/utilities/prints.py:43: UserWarning: No positive samples found in target, recall is undefined. Setting recall to one for all thresholds.\n",
      "  warnings.warn(*args, **kwargs)  # noqa: B028\n",
      "/home/ubuntu/callum-ca/miniconda3/envs/CRISPR-Bulge/lib/python3.10/site-packages/torchmetrics/utilities/prints.py:43: UserWarning: No positive samples in targets, true positive value should be meaningless. Returning zero tensor in true positive score\n",
      "  warnings.warn(*args, **kwargs)  # noqa: B028\n"
     ]
    },
    {
     "name": "stdout",
     "output_type": "stream",
     "text": [
      "Epoch 0:   0%|          | 111/115552 [03:02<52:35:18,  0.61it/s, v_num=13, train_loss_step=0.0373]"
     ]
    },
    {
     "name": "stderr",
     "output_type": "stream",
     "text": [
      "/home/ubuntu/callum-ca/miniconda3/envs/CRISPR-Bulge/lib/python3.10/site-packages/torchmetrics/utilities/prints.py:43: UserWarning: No positive samples found in target, recall is undefined. Setting recall to one for all thresholds.\n",
      "  warnings.warn(*args, **kwargs)  # noqa: B028\n",
      "/home/ubuntu/callum-ca/miniconda3/envs/CRISPR-Bulge/lib/python3.10/site-packages/torchmetrics/utilities/prints.py:43: UserWarning: No positive samples in targets, true positive value should be meaningless. Returning zero tensor in true positive score\n",
      "  warnings.warn(*args, **kwargs)  # noqa: B028\n"
     ]
    },
    {
     "name": "stdout",
     "output_type": "stream",
     "text": [
      "Epoch 0:   0%|          | 114/115552 [03:04<51:57:43,  0.62it/s, v_num=13, train_loss_step=0.110] "
     ]
    },
    {
     "name": "stderr",
     "output_type": "stream",
     "text": [
      "/home/ubuntu/callum-ca/miniconda3/envs/CRISPR-Bulge/lib/python3.10/site-packages/torchmetrics/utilities/prints.py:43: UserWarning: No positive samples found in target, recall is undefined. Setting recall to one for all thresholds.\n",
      "  warnings.warn(*args, **kwargs)  # noqa: B028\n",
      "/home/ubuntu/callum-ca/miniconda3/envs/CRISPR-Bulge/lib/python3.10/site-packages/torchmetrics/utilities/prints.py:43: UserWarning: No positive samples in targets, true positive value should be meaningless. Returning zero tensor in true positive score\n",
      "  warnings.warn(*args, **kwargs)  # noqa: B028\n"
     ]
    },
    {
     "name": "stdout",
     "output_type": "stream",
     "text": [
      "Epoch 0:   0%|          | 115/115552 [03:05<51:44:55,  0.62it/s, v_num=13, train_loss_step=0.0256]"
     ]
    },
    {
     "name": "stderr",
     "output_type": "stream",
     "text": [
      "/home/ubuntu/callum-ca/miniconda3/envs/CRISPR-Bulge/lib/python3.10/site-packages/torchmetrics/utilities/prints.py:43: UserWarning: No positive samples found in target, recall is undefined. Setting recall to one for all thresholds.\n",
      "  warnings.warn(*args, **kwargs)  # noqa: B028\n",
      "/home/ubuntu/callum-ca/miniconda3/envs/CRISPR-Bulge/lib/python3.10/site-packages/torchmetrics/utilities/prints.py:43: UserWarning: No positive samples in targets, true positive value should be meaningless. Returning zero tensor in true positive score\n",
      "  warnings.warn(*args, **kwargs)  # noqa: B028\n"
     ]
    },
    {
     "name": "stdout",
     "output_type": "stream",
     "text": [
      "Epoch 0:   0%|          | 116/115552 [03:06<51:32:18,  0.62it/s, v_num=13, train_loss_step=0.0267]"
     ]
    },
    {
     "name": "stderr",
     "output_type": "stream",
     "text": [
      "/home/ubuntu/callum-ca/miniconda3/envs/CRISPR-Bulge/lib/python3.10/site-packages/torchmetrics/utilities/prints.py:43: UserWarning: No positive samples found in target, recall is undefined. Setting recall to one for all thresholds.\n",
      "  warnings.warn(*args, **kwargs)  # noqa: B028\n",
      "/home/ubuntu/callum-ca/miniconda3/envs/CRISPR-Bulge/lib/python3.10/site-packages/torchmetrics/utilities/prints.py:43: UserWarning: No positive samples in targets, true positive value should be meaningless. Returning zero tensor in true positive score\n",
      "  warnings.warn(*args, **kwargs)  # noqa: B028\n"
     ]
    },
    {
     "name": "stdout",
     "output_type": "stream",
     "text": [
      "Epoch 0:   0%|          | 117/115552 [03:07<51:20:44,  0.62it/s, v_num=13, train_loss_step=0.0196]"
     ]
    },
    {
     "name": "stderr",
     "output_type": "stream",
     "text": [
      "/home/ubuntu/callum-ca/miniconda3/envs/CRISPR-Bulge/lib/python3.10/site-packages/torchmetrics/utilities/prints.py:43: UserWarning: No positive samples found in target, recall is undefined. Setting recall to one for all thresholds.\n",
      "  warnings.warn(*args, **kwargs)  # noqa: B028\n",
      "/home/ubuntu/callum-ca/miniconda3/envs/CRISPR-Bulge/lib/python3.10/site-packages/torchmetrics/utilities/prints.py:43: UserWarning: No positive samples in targets, true positive value should be meaningless. Returning zero tensor in true positive score\n",
      "  warnings.warn(*args, **kwargs)  # noqa: B028\n"
     ]
    },
    {
     "name": "stdout",
     "output_type": "stream",
     "text": [
      "Epoch 0:   0%|          | 119/115552 [03:09<50:57:29,  0.63it/s, v_num=13, train_loss_step=0.273] "
     ]
    },
    {
     "name": "stderr",
     "output_type": "stream",
     "text": [
      "/home/ubuntu/callum-ca/miniconda3/envs/CRISPR-Bulge/lib/python3.10/site-packages/torchmetrics/utilities/prints.py:43: UserWarning: No positive samples found in target, recall is undefined. Setting recall to one for all thresholds.\n",
      "  warnings.warn(*args, **kwargs)  # noqa: B028\n",
      "/home/ubuntu/callum-ca/miniconda3/envs/CRISPR-Bulge/lib/python3.10/site-packages/torchmetrics/utilities/prints.py:43: UserWarning: No positive samples in targets, true positive value should be meaningless. Returning zero tensor in true positive score\n",
      "  warnings.warn(*args, **kwargs)  # noqa: B028\n"
     ]
    },
    {
     "name": "stdout",
     "output_type": "stream",
     "text": [
      "Epoch 0:   0%|          | 122/115552 [03:11<50:24:03,  0.64it/s, v_num=13, train_loss_step=0.190] "
     ]
    },
    {
     "name": "stderr",
     "output_type": "stream",
     "text": [
      "/home/ubuntu/callum-ca/miniconda3/envs/CRISPR-Bulge/lib/python3.10/site-packages/torchmetrics/utilities/prints.py:43: UserWarning: No positive samples found in target, recall is undefined. Setting recall to one for all thresholds.\n",
      "  warnings.warn(*args, **kwargs)  # noqa: B028\n",
      "/home/ubuntu/callum-ca/miniconda3/envs/CRISPR-Bulge/lib/python3.10/site-packages/torchmetrics/utilities/prints.py:43: UserWarning: No positive samples in targets, true positive value should be meaningless. Returning zero tensor in true positive score\n",
      "  warnings.warn(*args, **kwargs)  # noqa: B028\n"
     ]
    },
    {
     "name": "stdout",
     "output_type": "stream",
     "text": [
      "Epoch 0:   0%|          | 124/115552 [03:13<50:02:46,  0.64it/s, v_num=13, train_loss_step=0.134] "
     ]
    },
    {
     "name": "stderr",
     "output_type": "stream",
     "text": [
      "/home/ubuntu/callum-ca/miniconda3/envs/CRISPR-Bulge/lib/python3.10/site-packages/torchmetrics/utilities/prints.py:43: UserWarning: No positive samples found in target, recall is undefined. Setting recall to one for all thresholds.\n",
      "  warnings.warn(*args, **kwargs)  # noqa: B028\n",
      "/home/ubuntu/callum-ca/miniconda3/envs/CRISPR-Bulge/lib/python3.10/site-packages/torchmetrics/utilities/prints.py:43: UserWarning: No positive samples in targets, true positive value should be meaningless. Returning zero tensor in true positive score\n",
      "  warnings.warn(*args, **kwargs)  # noqa: B028\n"
     ]
    },
    {
     "name": "stdout",
     "output_type": "stream",
     "text": [
      "Epoch 0:   0%|          | 126/115552 [03:15<49:41:38,  0.65it/s, v_num=13, train_loss_step=0.157] "
     ]
    },
    {
     "name": "stderr",
     "output_type": "stream",
     "text": [
      "/home/ubuntu/callum-ca/miniconda3/envs/CRISPR-Bulge/lib/python3.10/site-packages/torchmetrics/utilities/prints.py:43: UserWarning: No positive samples found in target, recall is undefined. Setting recall to one for all thresholds.\n",
      "  warnings.warn(*args, **kwargs)  # noqa: B028\n",
      "/home/ubuntu/callum-ca/miniconda3/envs/CRISPR-Bulge/lib/python3.10/site-packages/torchmetrics/utilities/prints.py:43: UserWarning: No positive samples in targets, true positive value should be meaningless. Returning zero tensor in true positive score\n",
      "  warnings.warn(*args, **kwargs)  # noqa: B028\n"
     ]
    },
    {
     "name": "stdout",
     "output_type": "stream",
     "text": [
      "Epoch 0:   0%|          | 128/115552 [03:17<49:20:55,  0.65it/s, v_num=13, train_loss_step=0.224] "
     ]
    },
    {
     "name": "stderr",
     "output_type": "stream",
     "text": [
      "/home/ubuntu/callum-ca/miniconda3/envs/CRISPR-Bulge/lib/python3.10/site-packages/torchmetrics/utilities/prints.py:43: UserWarning: No positive samples found in target, recall is undefined. Setting recall to one for all thresholds.\n",
      "  warnings.warn(*args, **kwargs)  # noqa: B028\n",
      "/home/ubuntu/callum-ca/miniconda3/envs/CRISPR-Bulge/lib/python3.10/site-packages/torchmetrics/utilities/prints.py:43: UserWarning: No positive samples in targets, true positive value should be meaningless. Returning zero tensor in true positive score\n",
      "  warnings.warn(*args, **kwargs)  # noqa: B028\n"
     ]
    },
    {
     "name": "stdout",
     "output_type": "stream",
     "text": [
      "Epoch 0:   0%|          | 130/115552 [03:18<49:00:53,  0.65it/s, v_num=13, train_loss_step=0.118] "
     ]
    },
    {
     "name": "stderr",
     "output_type": "stream",
     "text": [
      "/home/ubuntu/callum-ca/miniconda3/envs/CRISPR-Bulge/lib/python3.10/site-packages/torchmetrics/utilities/prints.py:43: UserWarning: No positive samples found in target, recall is undefined. Setting recall to one for all thresholds.\n",
      "  warnings.warn(*args, **kwargs)  # noqa: B028\n",
      "/home/ubuntu/callum-ca/miniconda3/envs/CRISPR-Bulge/lib/python3.10/site-packages/torchmetrics/utilities/prints.py:43: UserWarning: No positive samples in targets, true positive value should be meaningless. Returning zero tensor in true positive score\n",
      "  warnings.warn(*args, **kwargs)  # noqa: B028\n"
     ]
    },
    {
     "name": "stdout",
     "output_type": "stream",
     "text": [
      "Epoch 0:   0%|          | 131/115552 [03:19<48:51:32,  0.66it/s, v_num=13, train_loss_step=0.0332]"
     ]
    },
    {
     "name": "stderr",
     "output_type": "stream",
     "text": [
      "/home/ubuntu/callum-ca/miniconda3/envs/CRISPR-Bulge/lib/python3.10/site-packages/torchmetrics/utilities/prints.py:43: UserWarning: No positive samples found in target, recall is undefined. Setting recall to one for all thresholds.\n",
      "  warnings.warn(*args, **kwargs)  # noqa: B028\n",
      "/home/ubuntu/callum-ca/miniconda3/envs/CRISPR-Bulge/lib/python3.10/site-packages/torchmetrics/utilities/prints.py:43: UserWarning: No positive samples in targets, true positive value should be meaningless. Returning zero tensor in true positive score\n",
      "  warnings.warn(*args, **kwargs)  # noqa: B028\n"
     ]
    },
    {
     "name": "stdout",
     "output_type": "stream",
     "text": [
      "Epoch 0:   0%|          | 132/115552 [03:20<48:42:02,  0.66it/s, v_num=13, train_loss_step=0.0305]"
     ]
    },
    {
     "name": "stderr",
     "output_type": "stream",
     "text": [
      "/home/ubuntu/callum-ca/miniconda3/envs/CRISPR-Bulge/lib/python3.10/site-packages/torchmetrics/utilities/prints.py:43: UserWarning: No positive samples found in target, recall is undefined. Setting recall to one for all thresholds.\n",
      "  warnings.warn(*args, **kwargs)  # noqa: B028\n",
      "/home/ubuntu/callum-ca/miniconda3/envs/CRISPR-Bulge/lib/python3.10/site-packages/torchmetrics/utilities/prints.py:43: UserWarning: No positive samples in targets, true positive value should be meaningless. Returning zero tensor in true positive score\n",
      "  warnings.warn(*args, **kwargs)  # noqa: B028\n"
     ]
    },
    {
     "name": "stdout",
     "output_type": "stream",
     "text": [
      "Epoch 0:   0%|          | 135/115552 [03:23<48:14:23,  0.66it/s, v_num=13, train_loss_step=0.149] "
     ]
    },
    {
     "name": "stderr",
     "output_type": "stream",
     "text": [
      "/home/ubuntu/callum-ca/miniconda3/envs/CRISPR-Bulge/lib/python3.10/site-packages/torchmetrics/utilities/prints.py:43: UserWarning: No positive samples found in target, recall is undefined. Setting recall to one for all thresholds.\n",
      "  warnings.warn(*args, **kwargs)  # noqa: B028\n",
      "/home/ubuntu/callum-ca/miniconda3/envs/CRISPR-Bulge/lib/python3.10/site-packages/torchmetrics/utilities/prints.py:43: UserWarning: No positive samples in targets, true positive value should be meaningless. Returning zero tensor in true positive score\n",
      "  warnings.warn(*args, **kwargs)  # noqa: B028\n"
     ]
    },
    {
     "name": "stdout",
     "output_type": "stream",
     "text": [
      "Epoch 0:   0%|          | 143/115552 [03:30<47:06:37,  0.68it/s, v_num=13, train_loss_step=0.231] "
     ]
    },
    {
     "name": "stderr",
     "output_type": "stream",
     "text": [
      "/home/ubuntu/callum-ca/miniconda3/envs/CRISPR-Bulge/lib/python3.10/site-packages/torchmetrics/utilities/prints.py:43: UserWarning: No positive samples found in target, recall is undefined. Setting recall to one for all thresholds.\n",
      "  warnings.warn(*args, **kwargs)  # noqa: B028\n",
      "/home/ubuntu/callum-ca/miniconda3/envs/CRISPR-Bulge/lib/python3.10/site-packages/torchmetrics/utilities/prints.py:43: UserWarning: No positive samples in targets, true positive value should be meaningless. Returning zero tensor in true positive score\n",
      "  warnings.warn(*args, **kwargs)  # noqa: B028\n"
     ]
    },
    {
     "name": "stdout",
     "output_type": "stream",
     "text": [
      "Epoch 0:   0%|          | 145/115552 [03:31<46:51:03,  0.68it/s, v_num=13, train_loss_step=0.187]"
     ]
    },
    {
     "name": "stderr",
     "output_type": "stream",
     "text": [
      "/home/ubuntu/callum-ca/miniconda3/envs/CRISPR-Bulge/lib/python3.10/site-packages/torchmetrics/utilities/prints.py:43: UserWarning: No positive samples found in target, recall is undefined. Setting recall to one for all thresholds.\n",
      "  warnings.warn(*args, **kwargs)  # noqa: B028\n",
      "/home/ubuntu/callum-ca/miniconda3/envs/CRISPR-Bulge/lib/python3.10/site-packages/torchmetrics/utilities/prints.py:43: UserWarning: No positive samples in targets, true positive value should be meaningless. Returning zero tensor in true positive score\n",
      "  warnings.warn(*args, **kwargs)  # noqa: B028\n"
     ]
    },
    {
     "name": "stdout",
     "output_type": "stream",
     "text": [
      "Epoch 0:   0%|          | 149/115552 [03:35<46:20:52,  0.69it/s, v_num=13, train_loss_step=0.281] "
     ]
    },
    {
     "name": "stderr",
     "output_type": "stream",
     "text": [
      "/home/ubuntu/callum-ca/miniconda3/envs/CRISPR-Bulge/lib/python3.10/site-packages/torchmetrics/utilities/prints.py:43: UserWarning: No positive samples found in target, recall is undefined. Setting recall to one for all thresholds.\n",
      "  warnings.warn(*args, **kwargs)  # noqa: B028\n",
      "/home/ubuntu/callum-ca/miniconda3/envs/CRISPR-Bulge/lib/python3.10/site-packages/torchmetrics/utilities/prints.py:43: UserWarning: No positive samples in targets, true positive value should be meaningless. Returning zero tensor in true positive score\n",
      "  warnings.warn(*args, **kwargs)  # noqa: B028\n"
     ]
    },
    {
     "name": "stdout",
     "output_type": "stream",
     "text": [
      "Epoch 0:   0%|          | 150/115552 [03:36<46:14:12,  0.69it/s, v_num=13, train_loss_step=0.0116]"
     ]
    },
    {
     "name": "stderr",
     "output_type": "stream",
     "text": [
      "/home/ubuntu/callum-ca/miniconda3/envs/CRISPR-Bulge/lib/python3.10/site-packages/torchmetrics/utilities/prints.py:43: UserWarning: No positive samples found in target, recall is undefined. Setting recall to one for all thresholds.\n",
      "  warnings.warn(*args, **kwargs)  # noqa: B028\n",
      "/home/ubuntu/callum-ca/miniconda3/envs/CRISPR-Bulge/lib/python3.10/site-packages/torchmetrics/utilities/prints.py:43: UserWarning: No positive samples in targets, true positive value should be meaningless. Returning zero tensor in true positive score\n",
      "  warnings.warn(*args, **kwargs)  # noqa: B028\n"
     ]
    },
    {
     "name": "stdout",
     "output_type": "stream",
     "text": [
      "Epoch 0:   0%|          | 151/115552 [03:37<46:06:52,  0.70it/s, v_num=13, train_loss_step=0.0115]"
     ]
    },
    {
     "name": "stderr",
     "output_type": "stream",
     "text": [
      "/home/ubuntu/callum-ca/miniconda3/envs/CRISPR-Bulge/lib/python3.10/site-packages/torchmetrics/utilities/prints.py:43: UserWarning: No positive samples found in target, recall is undefined. Setting recall to one for all thresholds.\n",
      "  warnings.warn(*args, **kwargs)  # noqa: B028\n",
      "/home/ubuntu/callum-ca/miniconda3/envs/CRISPR-Bulge/lib/python3.10/site-packages/torchmetrics/utilities/prints.py:43: UserWarning: No positive samples in targets, true positive value should be meaningless. Returning zero tensor in true positive score\n",
      "  warnings.warn(*args, **kwargs)  # noqa: B028\n"
     ]
    },
    {
     "name": "stdout",
     "output_type": "stream",
     "text": [
      "Epoch 0:   0%|          | 158/115552 [03:43<45:18:47,  0.71it/s, v_num=13, train_loss_step=0.176] "
     ]
    },
    {
     "name": "stderr",
     "output_type": "stream",
     "text": [
      "/home/ubuntu/callum-ca/miniconda3/envs/CRISPR-Bulge/lib/python3.10/site-packages/torchmetrics/utilities/prints.py:43: UserWarning: No positive samples found in target, recall is undefined. Setting recall to one for all thresholds.\n",
      "  warnings.warn(*args, **kwargs)  # noqa: B028\n",
      "/home/ubuntu/callum-ca/miniconda3/envs/CRISPR-Bulge/lib/python3.10/site-packages/torchmetrics/utilities/prints.py:43: UserWarning: No positive samples in targets, true positive value should be meaningless. Returning zero tensor in true positive score\n",
      "  warnings.warn(*args, **kwargs)  # noqa: B028\n"
     ]
    },
    {
     "name": "stdout",
     "output_type": "stream",
     "text": [
      "Epoch 0:   0%|          | 159/115552 [03:44<45:12:16,  0.71it/s, v_num=13, train_loss_step=0.0925]"
     ]
    },
    {
     "name": "stderr",
     "output_type": "stream",
     "text": [
      "/home/ubuntu/callum-ca/miniconda3/envs/CRISPR-Bulge/lib/python3.10/site-packages/torchmetrics/utilities/prints.py:43: UserWarning: No positive samples found in target, recall is undefined. Setting recall to one for all thresholds.\n",
      "  warnings.warn(*args, **kwargs)  # noqa: B028\n",
      "/home/ubuntu/callum-ca/miniconda3/envs/CRISPR-Bulge/lib/python3.10/site-packages/torchmetrics/utilities/prints.py:43: UserWarning: No positive samples in targets, true positive value should be meaningless. Returning zero tensor in true positive score\n",
      "  warnings.warn(*args, **kwargs)  # noqa: B028\n"
     ]
    },
    {
     "name": "stdout",
     "output_type": "stream",
     "text": [
      "Epoch 0:   0%|          | 162/115552 [03:46<44:53:18,  0.71it/s, v_num=13, train_loss_step=0.144] "
     ]
    },
    {
     "name": "stderr",
     "output_type": "stream",
     "text": [
      "/home/ubuntu/callum-ca/miniconda3/envs/CRISPR-Bulge/lib/python3.10/site-packages/torchmetrics/utilities/prints.py:43: UserWarning: No positive samples found in target, recall is undefined. Setting recall to one for all thresholds.\n",
      "  warnings.warn(*args, **kwargs)  # noqa: B028\n",
      "/home/ubuntu/callum-ca/miniconda3/envs/CRISPR-Bulge/lib/python3.10/site-packages/torchmetrics/utilities/prints.py:43: UserWarning: No positive samples in targets, true positive value should be meaningless. Returning zero tensor in true positive score\n",
      "  warnings.warn(*args, **kwargs)  # noqa: B028\n"
     ]
    },
    {
     "name": "stdout",
     "output_type": "stream",
     "text": [
      "Epoch 0:   0%|          | 164/115552 [03:48<44:40:55,  0.72it/s, v_num=13, train_loss_step=0.125] "
     ]
    },
    {
     "name": "stderr",
     "output_type": "stream",
     "text": [
      "/home/ubuntu/callum-ca/miniconda3/envs/CRISPR-Bulge/lib/python3.10/site-packages/torchmetrics/utilities/prints.py:43: UserWarning: No positive samples found in target, recall is undefined. Setting recall to one for all thresholds.\n",
      "  warnings.warn(*args, **kwargs)  # noqa: B028\n",
      "/home/ubuntu/callum-ca/miniconda3/envs/CRISPR-Bulge/lib/python3.10/site-packages/torchmetrics/utilities/prints.py:43: UserWarning: No positive samples in targets, true positive value should be meaningless. Returning zero tensor in true positive score\n",
      "  warnings.warn(*args, **kwargs)  # noqa: B028\n"
     ]
    },
    {
     "name": "stdout",
     "output_type": "stream",
     "text": [
      "Epoch 0:   0%|          | 169/115552 [03:53<44:11:38,  0.73it/s, v_num=13, train_loss_step=0.189] "
     ]
    },
    {
     "name": "stderr",
     "output_type": "stream",
     "text": [
      "/home/ubuntu/callum-ca/miniconda3/envs/CRISPR-Bulge/lib/python3.10/site-packages/torchmetrics/utilities/prints.py:43: UserWarning: No positive samples found in target, recall is undefined. Setting recall to one for all thresholds.\n",
      "  warnings.warn(*args, **kwargs)  # noqa: B028\n",
      "/home/ubuntu/callum-ca/miniconda3/envs/CRISPR-Bulge/lib/python3.10/site-packages/torchmetrics/utilities/prints.py:43: UserWarning: No positive samples in targets, true positive value should be meaningless. Returning zero tensor in true positive score\n",
      "  warnings.warn(*args, **kwargs)  # noqa: B028\n"
     ]
    },
    {
     "name": "stdout",
     "output_type": "stream",
     "text": [
      "Epoch 0:   0%|          | 170/115552 [03:53<44:06:03,  0.73it/s, v_num=13, train_loss_step=0.0111]"
     ]
    },
    {
     "name": "stderr",
     "output_type": "stream",
     "text": [
      "/home/ubuntu/callum-ca/miniconda3/envs/CRISPR-Bulge/lib/python3.10/site-packages/torchmetrics/utilities/prints.py:43: UserWarning: No positive samples found in target, recall is undefined. Setting recall to one for all thresholds.\n",
      "  warnings.warn(*args, **kwargs)  # noqa: B028\n",
      "/home/ubuntu/callum-ca/miniconda3/envs/CRISPR-Bulge/lib/python3.10/site-packages/torchmetrics/utilities/prints.py:43: UserWarning: No positive samples in targets, true positive value should be meaningless. Returning zero tensor in true positive score\n",
      "  warnings.warn(*args, **kwargs)  # noqa: B028\n"
     ]
    },
    {
     "name": "stdout",
     "output_type": "stream",
     "text": [
      "Epoch 0:   0%|          | 171/115552 [03:54<44:00:23,  0.73it/s, v_num=13, train_loss_step=0.0109]"
     ]
    },
    {
     "name": "stderr",
     "output_type": "stream",
     "text": [
      "/home/ubuntu/callum-ca/miniconda3/envs/CRISPR-Bulge/lib/python3.10/site-packages/torchmetrics/utilities/prints.py:43: UserWarning: No positive samples found in target, recall is undefined. Setting recall to one for all thresholds.\n",
      "  warnings.warn(*args, **kwargs)  # noqa: B028\n",
      "/home/ubuntu/callum-ca/miniconda3/envs/CRISPR-Bulge/lib/python3.10/site-packages/torchmetrics/utilities/prints.py:43: UserWarning: No positive samples in targets, true positive value should be meaningless. Returning zero tensor in true positive score\n",
      "  warnings.warn(*args, **kwargs)  # noqa: B028\n"
     ]
    },
    {
     "name": "stdout",
     "output_type": "stream",
     "text": [
      "Epoch 0:   0%|          | 173/115552 [03:56<43:49:26,  0.73it/s, v_num=13, train_loss_step=0.140] "
     ]
    },
    {
     "name": "stderr",
     "output_type": "stream",
     "text": [
      "/home/ubuntu/callum-ca/miniconda3/envs/CRISPR-Bulge/lib/python3.10/site-packages/torchmetrics/utilities/prints.py:43: UserWarning: No positive samples found in target, recall is undefined. Setting recall to one for all thresholds.\n",
      "  warnings.warn(*args, **kwargs)  # noqa: B028\n",
      "/home/ubuntu/callum-ca/miniconda3/envs/CRISPR-Bulge/lib/python3.10/site-packages/torchmetrics/utilities/prints.py:43: UserWarning: No positive samples in targets, true positive value should be meaningless. Returning zero tensor in true positive score\n",
      "  warnings.warn(*args, **kwargs)  # noqa: B028\n"
     ]
    },
    {
     "name": "stdout",
     "output_type": "stream",
     "text": [
      "Epoch 0:   0%|          | 178/115552 [04:00<43:22:58,  0.74it/s, v_num=13, train_loss_step=0.254] "
     ]
    },
    {
     "name": "stderr",
     "output_type": "stream",
     "text": [
      "/home/ubuntu/callum-ca/miniconda3/envs/CRISPR-Bulge/lib/python3.10/site-packages/torchmetrics/utilities/prints.py:43: UserWarning: No positive samples found in target, recall is undefined. Setting recall to one for all thresholds.\n",
      "  warnings.warn(*args, **kwargs)  # noqa: B028\n",
      "/home/ubuntu/callum-ca/miniconda3/envs/CRISPR-Bulge/lib/python3.10/site-packages/torchmetrics/utilities/prints.py:43: UserWarning: No positive samples in targets, true positive value should be meaningless. Returning zero tensor in true positive score\n",
      "  warnings.warn(*args, **kwargs)  # noqa: B028\n"
     ]
    },
    {
     "name": "stdout",
     "output_type": "stream",
     "text": [
      "Epoch 0:   0%|          | 179/115552 [04:01<43:17:55,  0.74it/s, v_num=13, train_loss_step=0.0287]"
     ]
    },
    {
     "name": "stderr",
     "output_type": "stream",
     "text": [
      "/home/ubuntu/callum-ca/miniconda3/envs/CRISPR-Bulge/lib/python3.10/site-packages/torchmetrics/utilities/prints.py:43: UserWarning: No positive samples found in target, recall is undefined. Setting recall to one for all thresholds.\n",
      "  warnings.warn(*args, **kwargs)  # noqa: B028\n",
      "/home/ubuntu/callum-ca/miniconda3/envs/CRISPR-Bulge/lib/python3.10/site-packages/torchmetrics/utilities/prints.py:43: UserWarning: No positive samples in targets, true positive value should be meaningless. Returning zero tensor in true positive score\n",
      "  warnings.warn(*args, **kwargs)  # noqa: B028\n"
     ]
    },
    {
     "name": "stdout",
     "output_type": "stream",
     "text": [
      "Epoch 0:   0%|          | 180/115552 [04:02<43:12:52,  0.74it/s, v_num=13, train_loss_step=0.0274]"
     ]
    },
    {
     "name": "stderr",
     "output_type": "stream",
     "text": [
      "/home/ubuntu/callum-ca/miniconda3/envs/CRISPR-Bulge/lib/python3.10/site-packages/torchmetrics/utilities/prints.py:43: UserWarning: No positive samples found in target, recall is undefined. Setting recall to one for all thresholds.\n",
      "  warnings.warn(*args, **kwargs)  # noqa: B028\n",
      "/home/ubuntu/callum-ca/miniconda3/envs/CRISPR-Bulge/lib/python3.10/site-packages/torchmetrics/utilities/prints.py:43: UserWarning: No positive samples in targets, true positive value should be meaningless. Returning zero tensor in true positive score\n",
      "  warnings.warn(*args, **kwargs)  # noqa: B028\n"
     ]
    },
    {
     "name": "stdout",
     "output_type": "stream",
     "text": [
      "Epoch 0:   0%|          | 196/115552 [04:16<41:58:55,  0.76it/s, v_num=13, train_loss_step=0.230] "
     ]
    },
    {
     "name": "stderr",
     "output_type": "stream",
     "text": [
      "/home/ubuntu/callum-ca/miniconda3/envs/CRISPR-Bulge/lib/python3.10/site-packages/torchmetrics/utilities/prints.py:43: UserWarning: No positive samples found in target, recall is undefined. Setting recall to one for all thresholds.\n",
      "  warnings.warn(*args, **kwargs)  # noqa: B028\n",
      "/home/ubuntu/callum-ca/miniconda3/envs/CRISPR-Bulge/lib/python3.10/site-packages/torchmetrics/utilities/prints.py:43: UserWarning: No positive samples in targets, true positive value should be meaningless. Returning zero tensor in true positive score\n",
      "  warnings.warn(*args, **kwargs)  # noqa: B028\n"
     ]
    },
    {
     "name": "stdout",
     "output_type": "stream",
     "text": [
      "Epoch 0:   0%|          | 197/115552 [04:17<41:54:41,  0.76it/s, v_num=13, train_loss_step=0.0373]"
     ]
    },
    {
     "name": "stderr",
     "output_type": "stream",
     "text": [
      "/home/ubuntu/callum-ca/miniconda3/envs/CRISPR-Bulge/lib/python3.10/site-packages/torchmetrics/utilities/prints.py:43: UserWarning: No positive samples found in target, recall is undefined. Setting recall to one for all thresholds.\n",
      "  warnings.warn(*args, **kwargs)  # noqa: B028\n",
      "/home/ubuntu/callum-ca/miniconda3/envs/CRISPR-Bulge/lib/python3.10/site-packages/torchmetrics/utilities/prints.py:43: UserWarning: No positive samples in targets, true positive value should be meaningless. Returning zero tensor in true positive score\n",
      "  warnings.warn(*args, **kwargs)  # noqa: B028\n"
     ]
    },
    {
     "name": "stdout",
     "output_type": "stream",
     "text": [
      "Epoch 0:   0%|          | 204/115552 [04:23<41:26:12,  0.77it/s, v_num=13, train_loss_step=0.141] "
     ]
    },
    {
     "name": "stderr",
     "output_type": "stream",
     "text": [
      "/home/ubuntu/callum-ca/miniconda3/envs/CRISPR-Bulge/lib/python3.10/site-packages/torchmetrics/utilities/prints.py:43: UserWarning: No positive samples found in target, recall is undefined. Setting recall to one for all thresholds.\n",
      "  warnings.warn(*args, **kwargs)  # noqa: B028\n",
      "/home/ubuntu/callum-ca/miniconda3/envs/CRISPR-Bulge/lib/python3.10/site-packages/torchmetrics/utilities/prints.py:43: UserWarning: No positive samples in targets, true positive value should be meaningless. Returning zero tensor in true positive score\n",
      "  warnings.warn(*args, **kwargs)  # noqa: B028\n"
     ]
    },
    {
     "name": "stdout",
     "output_type": "stream",
     "text": [
      "Epoch 0:   0%|          | 207/115552 [04:26<41:14:41,  0.78it/s, v_num=13, train_loss_step=0.123]"
     ]
    },
    {
     "name": "stderr",
     "output_type": "stream",
     "text": [
      "/home/ubuntu/callum-ca/miniconda3/envs/CRISPR-Bulge/lib/python3.10/site-packages/torchmetrics/utilities/prints.py:43: UserWarning: No positive samples found in target, recall is undefined. Setting recall to one for all thresholds.\n",
      "  warnings.warn(*args, **kwargs)  # noqa: B028\n",
      "/home/ubuntu/callum-ca/miniconda3/envs/CRISPR-Bulge/lib/python3.10/site-packages/torchmetrics/utilities/prints.py:43: UserWarning: No positive samples in targets, true positive value should be meaningless. Returning zero tensor in true positive score\n",
      "  warnings.warn(*args, **kwargs)  # noqa: B028\n"
     ]
    },
    {
     "name": "stdout",
     "output_type": "stream",
     "text": [
      "Epoch 0:   0%|          | 217/115552 [04:35<40:38:21,  0.79it/s, v_num=13, train_loss_step=0.135] "
     ]
    },
    {
     "name": "stderr",
     "output_type": "stream",
     "text": [
      "/home/ubuntu/callum-ca/miniconda3/envs/CRISPR-Bulge/lib/python3.10/site-packages/torchmetrics/utilities/prints.py:43: UserWarning: No positive samples found in target, recall is undefined. Setting recall to one for all thresholds.\n",
      "  warnings.warn(*args, **kwargs)  # noqa: B028\n",
      "/home/ubuntu/callum-ca/miniconda3/envs/CRISPR-Bulge/lib/python3.10/site-packages/torchmetrics/utilities/prints.py:43: UserWarning: No positive samples in targets, true positive value should be meaningless. Returning zero tensor in true positive score\n",
      "  warnings.warn(*args, **kwargs)  # noqa: B028\n"
     ]
    },
    {
     "name": "stdout",
     "output_type": "stream",
     "text": [
      "Epoch 0:   0%|          | 218/115552 [04:36<40:39:15,  0.79it/s, v_num=13, train_loss_step=0.134] "
     ]
    }
   ],
   "source": [
    "# Train the model\n",
    "trainer.fit(model, datamodule)"
   ]
  },
  {
   "cell_type": "code",
   "execution_count": null,
   "id": "caf0db51-09a1-49b3-a1e1-f80154d00ad6",
   "metadata": {},
   "outputs": [],
   "source": []
  },
  {
   "cell_type": "code",
   "execution_count": null,
   "id": "b2258b1c-77e0-433e-bdd1-45a0eea529af",
   "metadata": {},
   "outputs": [],
   "source": []
  },
  {
   "cell_type": "code",
   "execution_count": null,
   "id": "0fde9aac-a021-4737-8512-0c112953fc1a",
   "metadata": {},
   "outputs": [],
   "source": []
  }
 ],
 "metadata": {
  "kernelspec": {
   "display_name": "CRISPR-Bulge",
   "language": "python",
   "name": "crispr-bulge"
  },
  "language_info": {
   "codemirror_mode": {
    "name": "ipython",
    "version": 3
   },
   "file_extension": ".py",
   "mimetype": "text/x-python",
   "name": "python",
   "nbconvert_exporter": "python",
   "pygments_lexer": "ipython3",
   "version": "3.10.10"
  }
 },
 "nbformat": 4,
 "nbformat_minor": 5
}
